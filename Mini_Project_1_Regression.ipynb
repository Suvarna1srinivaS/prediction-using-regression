{
  "nbformat": 4,
  "nbformat_minor": 0,
  "metadata": {
    "colab": {
      "provenance": [],
      "collapsed_sections": [
        "93w7TXJeL5dy"
      ]
    },
    "kernelspec": {
      "name": "python3",
      "display_name": "Python 3"
    },
    "language_info": {
      "name": "python"
    }
  },
  "cells": [
    {
      "cell_type": "markdown",
      "source": [
        "---\n",
        "\n",
        "#<font color = \"orange\"><center> **STORE SALES PREDICTION** </center>\n",
        "\n",
        "---"
      ],
      "metadata": {
        "id": "na9K9BZgGX9z"
      }
    },
    {
      "cell_type": "markdown",
      "source": [
        "#<font color = \"orange\">**Business Problem**:\n",
        "###The sales of stores are given along with the items sold, outlets etc which affects the sales of the data. We have to predict the future sales of the stores based on the given data to help store owners in strategizing their business goals and come up with innovative techniques and ideas to attract customers and set realistic goals."
      ],
      "metadata": {
        "id": "56fyZsSsGX1T"
      }
    },
    {
      "cell_type": "markdown",
      "source": [
        "##<font color = \"orange\">importing libraries:"
      ],
      "metadata": {
        "id": "B8sf15lmIWE7"
      }
    },
    {
      "cell_type": "code",
      "execution_count": 641,
      "metadata": {
        "id": "sTryJyy2hkQi"
      },
      "outputs": [],
      "source": [
        "import numpy as np\n",
        "import pandas as pd\n",
        "import matplotlib.pyplot as plt\n",
        "\n",
        "import warnings\n",
        "warnings.filterwarnings(\"ignore\")"
      ]
    },
    {
      "cell_type": "code",
      "source": [
        "from google.colab import files\n",
        "import io"
      ],
      "metadata": {
        "id": "bKfY2I3Th96v"
      },
      "execution_count": 642,
      "outputs": []
    },
    {
      "cell_type": "markdown",
      "source": [
        "##<font color = \"orange\">uploading the data:"
      ],
      "metadata": {
        "id": "w3MzuiFaIZw7"
      }
    },
    {
      "cell_type": "code",
      "source": [
        "one = files.upload()"
      ],
      "metadata": {
        "colab": {
          "base_uri": "https://localhost:8080/",
          "height": 73
        },
        "id": "vzcjKOC2iexk",
        "outputId": "7e96af42-aa65-49f6-fb34-65e0dfc8f0d2"
      },
      "execution_count": 643,
      "outputs": [
        {
          "output_type": "display_data",
          "data": {
            "text/plain": [
              "<IPython.core.display.HTML object>"
            ],
            "text/html": [
              "\n",
              "     <input type=\"file\" id=\"files-a2caa509-86ae-4509-a2e3-53eb0cde2525\" name=\"files[]\" multiple disabled\n",
              "        style=\"border:none\" />\n",
              "     <output id=\"result-a2caa509-86ae-4509-a2e3-53eb0cde2525\">\n",
              "      Upload widget is only available when the cell has been executed in the\n",
              "      current browser session. Please rerun this cell to enable.\n",
              "      </output>\n",
              "      <script>// Copyright 2017 Google LLC\n",
              "//\n",
              "// Licensed under the Apache License, Version 2.0 (the \"License\");\n",
              "// you may not use this file except in compliance with the License.\n",
              "// You may obtain a copy of the License at\n",
              "//\n",
              "//      http://www.apache.org/licenses/LICENSE-2.0\n",
              "//\n",
              "// Unless required by applicable law or agreed to in writing, software\n",
              "// distributed under the License is distributed on an \"AS IS\" BASIS,\n",
              "// WITHOUT WARRANTIES OR CONDITIONS OF ANY KIND, either express or implied.\n",
              "// See the License for the specific language governing permissions and\n",
              "// limitations under the License.\n",
              "\n",
              "/**\n",
              " * @fileoverview Helpers for google.colab Python module.\n",
              " */\n",
              "(function(scope) {\n",
              "function span(text, styleAttributes = {}) {\n",
              "  const element = document.createElement('span');\n",
              "  element.textContent = text;\n",
              "  for (const key of Object.keys(styleAttributes)) {\n",
              "    element.style[key] = styleAttributes[key];\n",
              "  }\n",
              "  return element;\n",
              "}\n",
              "\n",
              "// Max number of bytes which will be uploaded at a time.\n",
              "const MAX_PAYLOAD_SIZE = 100 * 1024;\n",
              "\n",
              "function _uploadFiles(inputId, outputId) {\n",
              "  const steps = uploadFilesStep(inputId, outputId);\n",
              "  const outputElement = document.getElementById(outputId);\n",
              "  // Cache steps on the outputElement to make it available for the next call\n",
              "  // to uploadFilesContinue from Python.\n",
              "  outputElement.steps = steps;\n",
              "\n",
              "  return _uploadFilesContinue(outputId);\n",
              "}\n",
              "\n",
              "// This is roughly an async generator (not supported in the browser yet),\n",
              "// where there are multiple asynchronous steps and the Python side is going\n",
              "// to poll for completion of each step.\n",
              "// This uses a Promise to block the python side on completion of each step,\n",
              "// then passes the result of the previous step as the input to the next step.\n",
              "function _uploadFilesContinue(outputId) {\n",
              "  const outputElement = document.getElementById(outputId);\n",
              "  const steps = outputElement.steps;\n",
              "\n",
              "  const next = steps.next(outputElement.lastPromiseValue);\n",
              "  return Promise.resolve(next.value.promise).then((value) => {\n",
              "    // Cache the last promise value to make it available to the next\n",
              "    // step of the generator.\n",
              "    outputElement.lastPromiseValue = value;\n",
              "    return next.value.response;\n",
              "  });\n",
              "}\n",
              "\n",
              "/**\n",
              " * Generator function which is called between each async step of the upload\n",
              " * process.\n",
              " * @param {string} inputId Element ID of the input file picker element.\n",
              " * @param {string} outputId Element ID of the output display.\n",
              " * @return {!Iterable<!Object>} Iterable of next steps.\n",
              " */\n",
              "function* uploadFilesStep(inputId, outputId) {\n",
              "  const inputElement = document.getElementById(inputId);\n",
              "  inputElement.disabled = false;\n",
              "\n",
              "  const outputElement = document.getElementById(outputId);\n",
              "  outputElement.innerHTML = '';\n",
              "\n",
              "  const pickedPromise = new Promise((resolve) => {\n",
              "    inputElement.addEventListener('change', (e) => {\n",
              "      resolve(e.target.files);\n",
              "    });\n",
              "  });\n",
              "\n",
              "  const cancel = document.createElement('button');\n",
              "  inputElement.parentElement.appendChild(cancel);\n",
              "  cancel.textContent = 'Cancel upload';\n",
              "  const cancelPromise = new Promise((resolve) => {\n",
              "    cancel.onclick = () => {\n",
              "      resolve(null);\n",
              "    };\n",
              "  });\n",
              "\n",
              "  // Wait for the user to pick the files.\n",
              "  const files = yield {\n",
              "    promise: Promise.race([pickedPromise, cancelPromise]),\n",
              "    response: {\n",
              "      action: 'starting',\n",
              "    }\n",
              "  };\n",
              "\n",
              "  cancel.remove();\n",
              "\n",
              "  // Disable the input element since further picks are not allowed.\n",
              "  inputElement.disabled = true;\n",
              "\n",
              "  if (!files) {\n",
              "    return {\n",
              "      response: {\n",
              "        action: 'complete',\n",
              "      }\n",
              "    };\n",
              "  }\n",
              "\n",
              "  for (const file of files) {\n",
              "    const li = document.createElement('li');\n",
              "    li.append(span(file.name, {fontWeight: 'bold'}));\n",
              "    li.append(span(\n",
              "        `(${file.type || 'n/a'}) - ${file.size} bytes, ` +\n",
              "        `last modified: ${\n",
              "            file.lastModifiedDate ? file.lastModifiedDate.toLocaleDateString() :\n",
              "                                    'n/a'} - `));\n",
              "    const percent = span('0% done');\n",
              "    li.appendChild(percent);\n",
              "\n",
              "    outputElement.appendChild(li);\n",
              "\n",
              "    const fileDataPromise = new Promise((resolve) => {\n",
              "      const reader = new FileReader();\n",
              "      reader.onload = (e) => {\n",
              "        resolve(e.target.result);\n",
              "      };\n",
              "      reader.readAsArrayBuffer(file);\n",
              "    });\n",
              "    // Wait for the data to be ready.\n",
              "    let fileData = yield {\n",
              "      promise: fileDataPromise,\n",
              "      response: {\n",
              "        action: 'continue',\n",
              "      }\n",
              "    };\n",
              "\n",
              "    // Use a chunked sending to avoid message size limits. See b/62115660.\n",
              "    let position = 0;\n",
              "    do {\n",
              "      const length = Math.min(fileData.byteLength - position, MAX_PAYLOAD_SIZE);\n",
              "      const chunk = new Uint8Array(fileData, position, length);\n",
              "      position += length;\n",
              "\n",
              "      const base64 = btoa(String.fromCharCode.apply(null, chunk));\n",
              "      yield {\n",
              "        response: {\n",
              "          action: 'append',\n",
              "          file: file.name,\n",
              "          data: base64,\n",
              "        },\n",
              "      };\n",
              "\n",
              "      let percentDone = fileData.byteLength === 0 ?\n",
              "          100 :\n",
              "          Math.round((position / fileData.byteLength) * 100);\n",
              "      percent.textContent = `${percentDone}% done`;\n",
              "\n",
              "    } while (position < fileData.byteLength);\n",
              "  }\n",
              "\n",
              "  // All done.\n",
              "  yield {\n",
              "    response: {\n",
              "      action: 'complete',\n",
              "    }\n",
              "  };\n",
              "}\n",
              "\n",
              "scope.google = scope.google || {};\n",
              "scope.google.colab = scope.google.colab || {};\n",
              "scope.google.colab._files = {\n",
              "  _uploadFiles,\n",
              "  _uploadFilesContinue,\n",
              "};\n",
              "})(self);\n",
              "</script> "
            ]
          },
          "metadata": {}
        },
        {
          "output_type": "stream",
          "name": "stdout",
          "text": [
            "Saving DS3_C6_S1_Regression_StoreSales_Data_Project.csv to DS3_C6_S1_Regression_StoreSales_Data_Project (3).csv\n"
          ]
        }
      ]
    },
    {
      "cell_type": "code",
      "source": [
        "df = pd.read_csv(io.BytesIO(one[\"DS3_C6_S1_Regression_StoreSales_Data_Project.csv\"]))"
      ],
      "metadata": {
        "id": "7lv4qi6DiCR8"
      },
      "execution_count": 644,
      "outputs": []
    },
    {
      "cell_type": "markdown",
      "source": [
        "##<font color = \"orange\">reading two rows of the dataset:"
      ],
      "metadata": {
        "id": "pb88HKtMId_I"
      }
    },
    {
      "cell_type": "code",
      "source": [
        "df.sample(2)"
      ],
      "metadata": {
        "colab": {
          "base_uri": "https://localhost:8080/",
          "height": 156
        },
        "id": "-miCySUxiMPM",
        "outputId": "d47b003a-f513-46f0-d8ed-0d06ca3d4f01"
      },
      "execution_count": 645,
      "outputs": [
        {
          "output_type": "execute_result",
          "data": {
            "text/plain": [
              "      Item_Identifier  Item_Weight Item_Fat_Content  Item_Visibility  \\\n",
              "8043            DRA12         11.6          Low Fat         0.068535   \n",
              "13411           FDP38         10.1          Low Fat         0.056207   \n",
              "\n",
              "         Item_Type  Item_MRP Outlet_Identifier  Outlet_Establishment_Year  \\\n",
              "8043   Soft Drinks  143.0154            OUT010                       1998   \n",
              "13411       Canned   51.3008            OUT019                       1985   \n",
              "\n",
              "      Outlet_Size Outlet_Location_Type    Outlet_Type  Item_Outlet_Sales  \n",
              "8043       Medium               Tier 3  Grocery Store           283.6308  \n",
              "13411       Small               Tier 1  Grocery Store                NaN  "
            ],
            "text/html": [
              "\n",
              "  <div id=\"df-720d2c6a-2f99-4781-a387-dfbf0e8a0d52\">\n",
              "    <div class=\"colab-df-container\">\n",
              "      <div>\n",
              "<style scoped>\n",
              "    .dataframe tbody tr th:only-of-type {\n",
              "        vertical-align: middle;\n",
              "    }\n",
              "\n",
              "    .dataframe tbody tr th {\n",
              "        vertical-align: top;\n",
              "    }\n",
              "\n",
              "    .dataframe thead th {\n",
              "        text-align: right;\n",
              "    }\n",
              "</style>\n",
              "<table border=\"1\" class=\"dataframe\">\n",
              "  <thead>\n",
              "    <tr style=\"text-align: right;\">\n",
              "      <th></th>\n",
              "      <th>Item_Identifier</th>\n",
              "      <th>Item_Weight</th>\n",
              "      <th>Item_Fat_Content</th>\n",
              "      <th>Item_Visibility</th>\n",
              "      <th>Item_Type</th>\n",
              "      <th>Item_MRP</th>\n",
              "      <th>Outlet_Identifier</th>\n",
              "      <th>Outlet_Establishment_Year</th>\n",
              "      <th>Outlet_Size</th>\n",
              "      <th>Outlet_Location_Type</th>\n",
              "      <th>Outlet_Type</th>\n",
              "      <th>Item_Outlet_Sales</th>\n",
              "    </tr>\n",
              "  </thead>\n",
              "  <tbody>\n",
              "    <tr>\n",
              "      <th>8043</th>\n",
              "      <td>DRA12</td>\n",
              "      <td>11.6</td>\n",
              "      <td>Low Fat</td>\n",
              "      <td>0.068535</td>\n",
              "      <td>Soft Drinks</td>\n",
              "      <td>143.0154</td>\n",
              "      <td>OUT010</td>\n",
              "      <td>1998</td>\n",
              "      <td>Medium</td>\n",
              "      <td>Tier 3</td>\n",
              "      <td>Grocery Store</td>\n",
              "      <td>283.6308</td>\n",
              "    </tr>\n",
              "    <tr>\n",
              "      <th>13411</th>\n",
              "      <td>FDP38</td>\n",
              "      <td>10.1</td>\n",
              "      <td>Low Fat</td>\n",
              "      <td>0.056207</td>\n",
              "      <td>Canned</td>\n",
              "      <td>51.3008</td>\n",
              "      <td>OUT019</td>\n",
              "      <td>1985</td>\n",
              "      <td>Small</td>\n",
              "      <td>Tier 1</td>\n",
              "      <td>Grocery Store</td>\n",
              "      <td>NaN</td>\n",
              "    </tr>\n",
              "  </tbody>\n",
              "</table>\n",
              "</div>\n",
              "      <button class=\"colab-df-convert\" onclick=\"convertToInteractive('df-720d2c6a-2f99-4781-a387-dfbf0e8a0d52')\"\n",
              "              title=\"Convert this dataframe to an interactive table.\"\n",
              "              style=\"display:none;\">\n",
              "        \n",
              "  <svg xmlns=\"http://www.w3.org/2000/svg\" height=\"24px\"viewBox=\"0 0 24 24\"\n",
              "       width=\"24px\">\n",
              "    <path d=\"M0 0h24v24H0V0z\" fill=\"none\"/>\n",
              "    <path d=\"M18.56 5.44l.94 2.06.94-2.06 2.06-.94-2.06-.94-.94-2.06-.94 2.06-2.06.94zm-11 1L8.5 8.5l.94-2.06 2.06-.94-2.06-.94L8.5 2.5l-.94 2.06-2.06.94zm10 10l.94 2.06.94-2.06 2.06-.94-2.06-.94-.94-2.06-.94 2.06-2.06.94z\"/><path d=\"M17.41 7.96l-1.37-1.37c-.4-.4-.92-.59-1.43-.59-.52 0-1.04.2-1.43.59L10.3 9.45l-7.72 7.72c-.78.78-.78 2.05 0 2.83L4 21.41c.39.39.9.59 1.41.59.51 0 1.02-.2 1.41-.59l7.78-7.78 2.81-2.81c.8-.78.8-2.07 0-2.86zM5.41 20L4 18.59l7.72-7.72 1.47 1.35L5.41 20z\"/>\n",
              "  </svg>\n",
              "      </button>\n",
              "      \n",
              "  <style>\n",
              "    .colab-df-container {\n",
              "      display:flex;\n",
              "      flex-wrap:wrap;\n",
              "      gap: 12px;\n",
              "    }\n",
              "\n",
              "    .colab-df-convert {\n",
              "      background-color: #E8F0FE;\n",
              "      border: none;\n",
              "      border-radius: 50%;\n",
              "      cursor: pointer;\n",
              "      display: none;\n",
              "      fill: #1967D2;\n",
              "      height: 32px;\n",
              "      padding: 0 0 0 0;\n",
              "      width: 32px;\n",
              "    }\n",
              "\n",
              "    .colab-df-convert:hover {\n",
              "      background-color: #E2EBFA;\n",
              "      box-shadow: 0px 1px 2px rgba(60, 64, 67, 0.3), 0px 1px 3px 1px rgba(60, 64, 67, 0.15);\n",
              "      fill: #174EA6;\n",
              "    }\n",
              "\n",
              "    [theme=dark] .colab-df-convert {\n",
              "      background-color: #3B4455;\n",
              "      fill: #D2E3FC;\n",
              "    }\n",
              "\n",
              "    [theme=dark] .colab-df-convert:hover {\n",
              "      background-color: #434B5C;\n",
              "      box-shadow: 0px 1px 3px 1px rgba(0, 0, 0, 0.15);\n",
              "      filter: drop-shadow(0px 1px 2px rgba(0, 0, 0, 0.3));\n",
              "      fill: #FFFFFF;\n",
              "    }\n",
              "  </style>\n",
              "\n",
              "      <script>\n",
              "        const buttonEl =\n",
              "          document.querySelector('#df-720d2c6a-2f99-4781-a387-dfbf0e8a0d52 button.colab-df-convert');\n",
              "        buttonEl.style.display =\n",
              "          google.colab.kernel.accessAllowed ? 'block' : 'none';\n",
              "\n",
              "        async function convertToInteractive(key) {\n",
              "          const element = document.querySelector('#df-720d2c6a-2f99-4781-a387-dfbf0e8a0d52');\n",
              "          const dataTable =\n",
              "            await google.colab.kernel.invokeFunction('convertToInteractive',\n",
              "                                                     [key], {});\n",
              "          if (!dataTable) return;\n",
              "\n",
              "          const docLinkHtml = 'Like what you see? Visit the ' +\n",
              "            '<a target=\"_blank\" href=https://colab.research.google.com/notebooks/data_table.ipynb>data table notebook</a>'\n",
              "            + ' to learn more about interactive tables.';\n",
              "          element.innerHTML = '';\n",
              "          dataTable['output_type'] = 'display_data';\n",
              "          await google.colab.output.renderOutput(dataTable, element);\n",
              "          const docLink = document.createElement('div');\n",
              "          docLink.innerHTML = docLinkHtml;\n",
              "          element.appendChild(docLink);\n",
              "        }\n",
              "      </script>\n",
              "    </div>\n",
              "  </div>\n",
              "  "
            ]
          },
          "metadata": {},
          "execution_count": 645
        }
      ]
    },
    {
      "cell_type": "code",
      "source": [
        "df = df.drop([\"Item_Identifier\",\"Outlet_Identifier\",\"Outlet_Establishment_Year\"], axis = 1)"
      ],
      "metadata": {
        "id": "jGdFx9I7m5rY"
      },
      "execution_count": 646,
      "outputs": []
    },
    {
      "cell_type": "markdown",
      "source": [
        "##<font color = \"orange\">checking the structure of data:"
      ],
      "metadata": {
        "id": "EwrPuEmGIhYK"
      }
    },
    {
      "cell_type": "code",
      "source": [
        "print(\"size: \",df.size)\n",
        "print(\"shape: \",df.shape)"
      ],
      "metadata": {
        "colab": {
          "base_uri": "https://localhost:8080/"
        },
        "id": "P_Us0sQ2ituy",
        "outputId": "3a99206e-8388-4a63-937f-e94650011397"
      },
      "execution_count": 647,
      "outputs": [
        {
          "output_type": "stream",
          "name": "stdout",
          "text": [
            "size:  127836\n",
            "shape:  (14204, 9)\n"
          ]
        }
      ]
    },
    {
      "cell_type": "markdown",
      "source": [
        "##<font color = \"orange\">summerising the data:</font>"
      ],
      "metadata": {
        "id": "DDhmWfmOInj2"
      }
    },
    {
      "cell_type": "code",
      "source": [
        "print(df.describe().T)"
      ],
      "metadata": {
        "colab": {
          "base_uri": "https://localhost:8080/"
        },
        "id": "o8V3GEbbjH95",
        "outputId": "3ead21b9-6c17-4756-97d0-37d3a2c53c25"
      },
      "execution_count": 648,
      "outputs": [
        {
          "output_type": "stream",
          "name": "stdout",
          "text": [
            "                     count         mean          std        min         25%  \\\n",
            "Item_Weight        14204.0    12.793380     4.651716   4.555000    8.710000   \n",
            "Item_Visibility    14204.0     0.070301     0.048621   0.003575    0.033143   \n",
            "Item_MRP           14204.0   141.004977    62.086938  31.290000   94.012000   \n",
            "Item_Outlet_Sales   8523.0  2181.288914  1706.499616  33.290000  834.247400   \n",
            "\n",
            "                           50%          75%           max  \n",
            "Item_Weight          12.600000    16.750000     21.350000  \n",
            "Item_Visibility       0.062347     0.094037      0.328391  \n",
            "Item_MRP            142.247000   185.855600    266.888400  \n",
            "Item_Outlet_Sales  1794.331000  3101.296400  13086.964800  \n"
          ]
        }
      ]
    },
    {
      "cell_type": "code",
      "source": [
        "df.info()"
      ],
      "metadata": {
        "colab": {
          "base_uri": "https://localhost:8080/"
        },
        "id": "CZkyCsnLj30A",
        "outputId": "4d324bed-3730-4b8c-ae88-2d81777c78af"
      },
      "execution_count": 649,
      "outputs": [
        {
          "output_type": "stream",
          "name": "stdout",
          "text": [
            "<class 'pandas.core.frame.DataFrame'>\n",
            "RangeIndex: 14204 entries, 0 to 14203\n",
            "Data columns (total 9 columns):\n",
            " #   Column                Non-Null Count  Dtype  \n",
            "---  ------                --------------  -----  \n",
            " 0   Item_Weight           14204 non-null  float64\n",
            " 1   Item_Fat_Content      14204 non-null  object \n",
            " 2   Item_Visibility       14204 non-null  float64\n",
            " 3   Item_Type             14204 non-null  object \n",
            " 4   Item_MRP              14204 non-null  float64\n",
            " 5   Outlet_Size           14204 non-null  object \n",
            " 6   Outlet_Location_Type  14204 non-null  object \n",
            " 7   Outlet_Type           14204 non-null  object \n",
            " 8   Item_Outlet_Sales     8523 non-null   float64\n",
            "dtypes: float64(4), object(5)\n",
            "memory usage: 998.8+ KB\n"
          ]
        }
      ]
    },
    {
      "cell_type": "markdown",
      "source": [
        "##  <font color = \"orange\"> checking if the null values are persent in dataset or not: </font>"
      ],
      "metadata": {
        "id": "hm7TAPUCIteu"
      }
    },
    {
      "cell_type": "code",
      "source": [
        "df.isnull().sum()"
      ],
      "metadata": {
        "colab": {
          "base_uri": "https://localhost:8080/"
        },
        "id": "01NM6Dx3jaE4",
        "outputId": "01337a7b-f2ec-492a-afa2-b3b1b28c03fa"
      },
      "execution_count": 650,
      "outputs": [
        {
          "output_type": "execute_result",
          "data": {
            "text/plain": [
              "Item_Weight                0\n",
              "Item_Fat_Content           0\n",
              "Item_Visibility            0\n",
              "Item_Type                  0\n",
              "Item_MRP                   0\n",
              "Outlet_Size                0\n",
              "Outlet_Location_Type       0\n",
              "Outlet_Type                0\n",
              "Item_Outlet_Sales       5681\n",
              "dtype: int64"
            ]
          },
          "metadata": {},
          "execution_count": 650
        }
      ]
    },
    {
      "cell_type": "markdown",
      "source": [
        "***target variable (item outlet sales) has some missing values. But instead of treating them I consider them as test data and predict the sales using model***"
      ],
      "metadata": {
        "id": "BpBajPgNd5C-"
      }
    },
    {
      "cell_type": "markdown",
      "source": [
        "##<font color=\"orange\"> Exploratory Data Analysis: </font>"
      ],
      "metadata": {
        "id": "gXzrOVY5L0ea"
      }
    },
    {
      "cell_type": "markdown",
      "source": [
        "###<font color=\"orange\">Univariate Analysis:"
      ],
      "metadata": {
        "id": "93w7TXJeL5dy"
      }
    },
    {
      "cell_type": "markdown",
      "source": [
        "###<font color=\"ORANGE\"> Analysis of Item weight feature:"
      ],
      "metadata": {
        "id": "wZ9AWYlBMXvX"
      }
    },
    {
      "cell_type": "code",
      "source": [
        "import seaborn as sns"
      ],
      "metadata": {
        "id": "CWlN0Yabmlcq"
      },
      "execution_count": 651,
      "outputs": []
    },
    {
      "cell_type": "code",
      "source": [
        "sns.boxplot(df[\"Item_Weight\"])"
      ],
      "metadata": {
        "colab": {
          "base_uri": "https://localhost:8080/",
          "height": 297
        },
        "id": "sUL1sFKKmgWV",
        "outputId": "2b3d447c-d446-437c-8066-76969c63f2f0"
      },
      "execution_count": 652,
      "outputs": [
        {
          "output_type": "execute_result",
          "data": {
            "text/plain": [
              "<matplotlib.axes._subplots.AxesSubplot at 0x7f8b50674690>"
            ]
          },
          "metadata": {},
          "execution_count": 652
        },
        {
          "output_type": "display_data",
          "data": {
            "text/plain": [
              "<Figure size 432x288 with 1 Axes>"
            ],
            "image/png": "[encoded data removed]"
          },
          "metadata": {
            "needs_background": "light"
          }
        }
      ]
    },
    {
      "cell_type": "markdown",
      "source": [
        "<font color = \"orange\">***Intrepretation:*** </font>\n",
        "***around 80% of the items having below 17***"
      ],
      "metadata": {
        "id": "2q_SiKdRey0K"
      }
    },
    {
      "cell_type": "markdown",
      "source": [
        "###<font color=\"ORANGE\"> Analysis of Item fat content feature:"
      ],
      "metadata": {
        "id": "02PmEp-aOH7q"
      }
    },
    {
      "cell_type": "code",
      "source": [
        "sns.countplot(df[\"Item_Fat_Content\"])"
      ],
      "metadata": {
        "colab": {
          "base_uri": "https://localhost:8080/",
          "height": 297
        },
        "id": "08MTImJPmgTc",
        "outputId": "630dadbb-a901-468e-e164-a5c4fd954d90"
      },
      "execution_count": 653,
      "outputs": [
        {
          "output_type": "execute_result",
          "data": {
            "text/plain": [
              "<matplotlib.axes._subplots.AxesSubplot at 0x7f8b50451c10>"
            ]
          },
          "metadata": {},
          "execution_count": 653
        },
        {
          "output_type": "display_data",
          "data": {
            "text/plain": [
              "<Figure size 432x288 with 1 Axes>"
            ],
            "image/png": "[encoded data removed]"
          },
          "metadata": {
            "needs_background": "light"
          }
        }
      ]
    },
    {
      "cell_type": "markdown",
      "source": [
        "<font color = \"orange\">***Intrepretation:*** </font>\n",
        "***most of the items have low fat***"
      ],
      "metadata": {
        "id": "tzn2B6vPfEUk"
      }
    },
    {
      "cell_type": "markdown",
      "source": [
        "###<font color=\"ORANGE\"> Analysis of Item visibility feature:"
      ],
      "metadata": {
        "id": "XPSss64lOM3t"
      }
    },
    {
      "cell_type": "code",
      "source": [
        "sns.boxplot(df[\"Item_Visibility\"])"
      ],
      "metadata": {
        "colab": {
          "base_uri": "https://localhost:8080/",
          "height": 297
        },
        "id": "dRXWLOGZmgQm",
        "outputId": "4948f317-3f84-41c3-efa5-a6a624608b5a"
      },
      "execution_count": 654,
      "outputs": [
        {
          "output_type": "execute_result",
          "data": {
            "text/plain": [
              "<matplotlib.axes._subplots.AxesSubplot at 0x7f8b503aa550>"
            ]
          },
          "metadata": {},
          "execution_count": 654
        },
        {
          "output_type": "display_data",
          "data": {
            "text/plain": [
              "<Figure size 432x288 with 1 Axes>"
            ],
            "image/png": "[encoded data removed]"
          },
          "metadata": {
            "needs_background": "light"
          }
        }
      ]
    },
    {
      "cell_type": "markdown",
      "source": [
        "***since there are a lot of outliers in visibility feature, am treating the outliers by replacing them with mean***"
      ],
      "metadata": {
        "id": "Aixtr9QIOO-i"
      }
    },
    {
      "cell_type": "code",
      "source": [
        "x = df[\"Item_Visibility\"].mean()\n",
        "q1 = df[\"Item_Visibility\"].quantile(0.25)\n",
        "q3 = df[\"Item_Visibility\"].quantile(0.75)\n",
        "iqr = q3-q1\n",
        "lf = q1-1.5*iqr\n",
        "uf = q3+1.5*iqr\n",
        "print(lf)\n",
        "print(uf)\n",
        "print(\"mean: \", x)"
      ],
      "metadata": {
        "colab": {
          "base_uri": "https://localhost:8080/"
        },
        "id": "urwN9bpZCUFI",
        "outputId": "25199851-3559-4ffc-beb0-60cd3a721cfd"
      },
      "execution_count": 655,
      "outputs": [
        {
          "output_type": "stream",
          "name": "stdout",
          "text": [
            "-0.058197302124999996\n",
            "0.185377986875\n",
            "mean:  0.07030079341671361\n"
          ]
        }
      ]
    },
    {
      "cell_type": "code",
      "source": [
        "mean = x\n",
        "y = df[df[\"Item_Visibility\"]>=uf].index\n",
        "for index in y:\n",
        "    df.loc[index,\"Item_Visibility\"] = mean"
      ],
      "metadata": {
        "id": "Th2BnNxKCUCZ"
      },
      "execution_count": 656,
      "outputs": []
    },
    {
      "cell_type": "markdown",
      "source": [
        "###<font color=\"ORANGE\"> Analysing again Item weight feature:"
      ],
      "metadata": {
        "id": "rPyXdLzrObVe"
      }
    },
    {
      "cell_type": "code",
      "source": [
        "sns.boxplot(df[\"Item_Visibility\"])"
      ],
      "metadata": {
        "colab": {
          "base_uri": "https://localhost:8080/",
          "height": 297
        },
        "id": "QfAHaw4HCT_k",
        "outputId": "bcaa6d0a-8b10-477a-a2dd-377bf5df4d93"
      },
      "execution_count": 657,
      "outputs": [
        {
          "output_type": "execute_result",
          "data": {
            "text/plain": [
              "<matplotlib.axes._subplots.AxesSubplot at 0x7f8b50485dd0>"
            ]
          },
          "metadata": {},
          "execution_count": 657
        },
        {
          "output_type": "display_data",
          "data": {
            "text/plain": [
              "<Figure size 432x288 with 1 Axes>"
            ],
            "image/png": "[encoded data removed]"
          },
          "metadata": {
            "needs_background": "light"
          }
        }
      ]
    },
    {
      "cell_type": "markdown",
      "source": [
        "<font color = \"orange\">***Intrepretation:*** </font>\n",
        "***around 50% of the items are visible to outside from store***"
      ],
      "metadata": {
        "id": "sp9CtbhyfNnZ"
      }
    },
    {
      "cell_type": "markdown",
      "source": [
        "###<font color=\"ORANGE\"> Analysis of Item type feature:"
      ],
      "metadata": {
        "id": "eNgTUS8aOeDE"
      }
    },
    {
      "cell_type": "code",
      "source": [
        "sns.countplot(df[\"Item_Type\"])\n",
        "plt.xticks(rotation = 90)"
      ],
      "metadata": {
        "colab": {
          "base_uri": "https://localhost:8080/",
          "height": 413
        },
        "id": "GLQ1k0yGmgNk",
        "outputId": "7f1b9c3d-f95e-4222-f1eb-75d05606dc53"
      },
      "execution_count": 658,
      "outputs": [
        {
          "output_type": "execute_result",
          "data": {
            "text/plain": [
              "(array([ 0,  1,  2,  3,  4,  5,  6,  7,  8,  9, 10, 11, 12, 13, 14, 15]),\n",
              " <a list of 16 Text major ticklabel objects>)"
            ]
          },
          "metadata": {},
          "execution_count": 658
        },
        {
          "output_type": "display_data",
          "data": {
            "text/plain": [
              "<Figure size 432x288 with 1 Axes>"
            ],
            "image/png": "[encoded data removed]"
          },
          "metadata": {
            "needs_background": "light"
          }
        }
      ]
    },
    {
      "cell_type": "markdown",
      "source": [
        "<font color = \"orange\">***Intrepretation:*** </font>\n",
        "***snack foods, fruits and vegetables are more in the stores***"
      ],
      "metadata": {
        "id": "ISdvLKb-fmHq"
      }
    },
    {
      "cell_type": "markdown",
      "source": [
        "###<font color=\"ORANGE\"> Analysis of Item MRP feature:"
      ],
      "metadata": {
        "id": "5NyDOOcYOfkY"
      }
    },
    {
      "cell_type": "code",
      "source": [
        "sns.boxplot(df[\"Item_MRP\"])"
      ],
      "metadata": {
        "colab": {
          "base_uri": "https://localhost:8080/",
          "height": 297
        },
        "id": "85JFwWWcmgJe",
        "outputId": "f02dc68d-e2bf-4ef3-f3e7-620a21504c1d"
      },
      "execution_count": 659,
      "outputs": [
        {
          "output_type": "execute_result",
          "data": {
            "text/plain": [
              "<matplotlib.axes._subplots.AxesSubplot at 0x7f8b50267590>"
            ]
          },
          "metadata": {},
          "execution_count": 659
        },
        {
          "output_type": "display_data",
          "data": {
            "text/plain": [
              "<Figure size 432x288 with 1 Axes>"
            ],
            "image/png": "[encoded data removed]"
          },
          "metadata": {
            "needs_background": "light"
          }
        }
      ]
    },
    {
      "cell_type": "markdown",
      "source": [
        "<font color = \"orange\">***Intrepretation:*** </font>\n",
        "***most of the items have MRP less than 200***"
      ],
      "metadata": {
        "id": "N8AFiHLwfvEr"
      }
    },
    {
      "cell_type": "markdown",
      "source": [
        "###<font color=\"ORANGE\"> Analysis of outlet size feature:"
      ],
      "metadata": {
        "id": "XRTxVkT1OiAs"
      }
    },
    {
      "cell_type": "code",
      "source": [
        "sns.countplot(df[\"Outlet_Size\"])"
      ],
      "metadata": {
        "colab": {
          "base_uri": "https://localhost:8080/",
          "height": 297
        },
        "id": "BLW-MZJomfvB",
        "outputId": "7e5c5e1d-8dd3-4575-f803-6da51db5d37f"
      },
      "execution_count": 660,
      "outputs": [
        {
          "output_type": "execute_result",
          "data": {
            "text/plain": [
              "<matplotlib.axes._subplots.AxesSubplot at 0x7f8b50193150>"
            ]
          },
          "metadata": {},
          "execution_count": 660
        },
        {
          "output_type": "display_data",
          "data": {
            "text/plain": [
              "<Figure size 432x288 with 1 Axes>"
            ],
            "image/png": "[encoded data removed]"
          },
          "metadata": {
            "needs_background": "light"
          }
        }
      ]
    },
    {
      "cell_type": "markdown",
      "source": [
        "<font color = \"orange\">***Intrepretation:*** </font>\n",
        "***outlets with small size are more and outlets with high size are less***"
      ],
      "metadata": {
        "id": "9OS95Wfzf442"
      }
    },
    {
      "cell_type": "markdown",
      "source": [
        "###<font color=\"ORANGE\"> Analysis of outlet location type feature:"
      ],
      "metadata": {
        "id": "angVrsBfOll-"
      }
    },
    {
      "cell_type": "code",
      "source": [
        "sns.countplot(df[\"Outlet_Location_Type\"])"
      ],
      "metadata": {
        "colab": {
          "base_uri": "https://localhost:8080/",
          "height": 297
        },
        "id": "lGfuDj5_nboL",
        "outputId": "8b44f0bb-beb2-41a3-90ab-39c9a8e25c3a"
      },
      "execution_count": 661,
      "outputs": [
        {
          "output_type": "execute_result",
          "data": {
            "text/plain": [
              "<matplotlib.axes._subplots.AxesSubplot at 0x7f8b50189850>"
            ]
          },
          "metadata": {},
          "execution_count": 661
        },
        {
          "output_type": "display_data",
          "data": {
            "text/plain": [
              "<Figure size 432x288 with 1 Axes>"
            ],
            "image/png": "[encoded data removed]"
          },
          "metadata": {
            "needs_background": "light"
          }
        }
      ]
    },
    {
      "cell_type": "markdown",
      "source": [
        "<font color = \"orange\">***Intrepretation:*** </font>\n",
        "***outlets with location type of Tier 3 are more***"
      ],
      "metadata": {
        "id": "sX8g7prtgJkX"
      }
    },
    {
      "cell_type": "markdown",
      "source": [
        "###<font color=\"ORANGE\"> Analysis of outlet type feature:"
      ],
      "metadata": {
        "id": "tQkjhC5mOoui"
      }
    },
    {
      "cell_type": "code",
      "source": [
        "sns.countplot(df[\"Outlet_Type\"])\n",
        "plt.xticks(rotation = 90)"
      ],
      "metadata": {
        "colab": {
          "base_uri": "https://localhost:8080/",
          "height": 384
        },
        "id": "zk32Ndpgnbe1",
        "outputId": "4bf7acf1-075e-4631-bf64-17882c395bcf"
      },
      "execution_count": 662,
      "outputs": [
        {
          "output_type": "execute_result",
          "data": {
            "text/plain": [
              "(array([0, 1, 2, 3]), <a list of 4 Text major ticklabel objects>)"
            ]
          },
          "metadata": {},
          "execution_count": 662
        },
        {
          "output_type": "display_data",
          "data": {
            "text/plain": [
              "<Figure size 432x288 with 1 Axes>"
            ],
            "image/png": "[encoded data removed]"
          },
          "metadata": {
            "needs_background": "light"
          }
        }
      ]
    },
    {
      "cell_type": "markdown",
      "source": [
        "<font color = \"orange\">***Intrepretation:*** </font>\n",
        "***Super market type 1 outlets are more when compared to grocery store and and other super markets***"
      ],
      "metadata": {
        "id": "sLnhIiiugXgJ"
      }
    },
    {
      "cell_type": "markdown",
      "source": [
        "###<font color=\"ORANGE\"> Analysis of Item outlet sales feature:"
      ],
      "metadata": {
        "id": "7TbSsr7rOsfn"
      }
    },
    {
      "cell_type": "code",
      "source": [
        "sns.boxplot(df[\"Item_Outlet_Sales\"])"
      ],
      "metadata": {
        "colab": {
          "base_uri": "https://localhost:8080/",
          "height": 297
        },
        "id": "46HPdEFcmffo",
        "outputId": "bb63fedd-227f-42c6-e1c5-248b739a5bfe"
      },
      "execution_count": 663,
      "outputs": [
        {
          "output_type": "execute_result",
          "data": {
            "text/plain": [
              "<matplotlib.axes._subplots.AxesSubplot at 0x7f8b500c0810>"
            ]
          },
          "metadata": {},
          "execution_count": 663
        },
        {
          "output_type": "display_data",
          "data": {
            "text/plain": [
              "<Figure size 432x288 with 1 Axes>"
            ],
            "image/png": "[encoded data removed]"
          },
          "metadata": {
            "needs_background": "light"
          }
        }
      ]
    },
    {
      "cell_type": "markdown",
      "source": [
        "***since there are a lot of outliers in item outlet sales feature, am treating the outliers by replacing them with mean***"
      ],
      "metadata": {
        "id": "8zyEKo_hhWiV"
      }
    },
    {
      "cell_type": "code",
      "source": [
        "x = df[\"Item_Outlet_Sales\"].mean()\n",
        "q1 = df[\"Item_Outlet_Sales\"].quantile(0.25)\n",
        "q3 = df[\"Item_Outlet_Sales\"].quantile(0.75)\n",
        "iqr = q3-q1\n",
        "lf = q1-1.5*iqr\n",
        "uf = q3+1.5*iqr\n",
        "print(lf)\n",
        "print(uf)\n",
        "print(\"mean: \", x)"
      ],
      "metadata": {
        "colab": {
          "base_uri": "https://localhost:8080/"
        },
        "id": "3uxShnVCC2fT",
        "outputId": "29615fbe-57e8-49fb-b96f-e32e9541a700"
      },
      "execution_count": 664,
      "outputs": [
        {
          "output_type": "stream",
          "name": "stdout",
          "text": [
            "-2566.3261\n",
            "6501.8699\n",
            "mean:  2181.288913575032\n"
          ]
        }
      ]
    },
    {
      "cell_type": "code",
      "source": [
        "mean = x\n",
        "y = df[df[\"Item_Outlet_Sales\"]>=uf].index\n",
        "for index in y:\n",
        "    df.loc[index,\"Item_Outlet_Sales\"] = mean"
      ],
      "metadata": {
        "id": "V2B3ki-MC2cf"
      },
      "execution_count": 665,
      "outputs": []
    },
    {
      "cell_type": "markdown",
      "source": [
        "###<font color=\"ORANGE\"> Analysing again Item weight feature:"
      ],
      "metadata": {
        "id": "Zslxd7KVOwzL"
      }
    },
    {
      "cell_type": "code",
      "source": [
        "sns.boxplot(df[\"Item_Outlet_Sales\"])"
      ],
      "metadata": {
        "colab": {
          "base_uri": "https://localhost:8080/",
          "height": 297
        },
        "id": "AASGC9JXC2Ze",
        "outputId": "6042cf7d-7e48-46af-c2ef-7b3cfc1a6112"
      },
      "execution_count": 666,
      "outputs": [
        {
          "output_type": "execute_result",
          "data": {
            "text/plain": [
              "<matplotlib.axes._subplots.AxesSubplot at 0x7f8b50034e50>"
            ]
          },
          "metadata": {},
          "execution_count": 666
        },
        {
          "output_type": "display_data",
          "data": {
            "text/plain": [
              "<Figure size 432x288 with 1 Axes>"
            ],
            "image/png": "[encoded data removed]"
          },
          "metadata": {
            "needs_background": "light"
          }
        }
      ]
    },
    {
      "cell_type": "markdown",
      "source": [
        "<font color = \"orange\">***Intrepretation:*** </font>\n",
        "***around 80 % of the stores have sales less than 5000***"
      ],
      "metadata": {
        "id": "47MUSSqAOv02"
      }
    },
    {
      "cell_type": "markdown",
      "source": [
        "##<font color = \"orange\">Bivariate analysis:"
      ],
      "metadata": {
        "id": "4z3etXekO18u"
      }
    },
    {
      "cell_type": "markdown",
      "source": [
        "###<font color=\"ORANGE\"> Analysis of Outlet_Type and Item_Outlet_Sales features:"
      ],
      "metadata": {
        "id": "p_eCYXb1O081"
      }
    },
    {
      "cell_type": "code",
      "source": [
        "plt.figure(figsize = (15,7))\n",
        "plt.subplot(121)\n",
        "sns.boxplot(df[\"Outlet_Type\"], df[\"Item_Outlet_Sales\"])\n",
        "\n",
        "plt.subplot(122)\n",
        "sns.barplot(df[\"Outlet_Type\"], df[\"Item_Outlet_Sales\"], ci = None)"
      ],
      "metadata": {
        "colab": {
          "base_uri": "https://localhost:8080/",
          "height": 460
        },
        "id": "ScGPSJjaoi6-",
        "outputId": "a1d68404-417d-4097-f857-68bf91a4aa23"
      },
      "execution_count": 667,
      "outputs": [
        {
          "output_type": "execute_result",
          "data": {
            "text/plain": [
              "<matplotlib.axes._subplots.AxesSubplot at 0x7f8b4ffc8810>"
            ]
          },
          "metadata": {},
          "execution_count": 667
        },
        {
          "output_type": "display_data",
          "data": {
            "text/plain": [
              "<Figure size 1080x504 with 2 Axes>"
            ],
            "image/png": "[encoded data removed]"
          },
          "metadata": {
            "needs_background": "light"
          }
        }
      ]
    },
    {
      "cell_type": "markdown",
      "source": [
        "<font color = \"orange\">***Intrepretation:*** </font>\n",
        "***sales are more in the supermarket type 3. So store owners increase their stock in super market type 3 they will get more profits***"
      ],
      "metadata": {
        "id": "G2tkK2eGhgb9"
      }
    },
    {
      "cell_type": "markdown",
      "source": [
        "###<font color=\"ORANGE\"> Analysis of Outlet_Location_Type and Item_Outlet_Sales features:"
      ],
      "metadata": {
        "id": "O2lYuVQBPFIB"
      }
    },
    {
      "cell_type": "code",
      "source": [
        "plt.figure(figsize = (15,7))\n",
        "plt.subplot(121)\n",
        "sns.boxplot(df[\"Outlet_Location_Type\"], df[\"Item_Outlet_Sales\"])\n",
        "\n",
        "plt.subplot(122)\n",
        "sns.barplot(df[\"Outlet_Location_Type\"], df[\"Item_Outlet_Sales\"], ci = None)"
      ],
      "metadata": {
        "colab": {
          "base_uri": "https://localhost:8080/",
          "height": 460
        },
        "id": "jDBMTIFGoi4Q",
        "outputId": "35f2d68f-0d1b-4668-9760-89badfd119d7"
      },
      "execution_count": 668,
      "outputs": [
        {
          "output_type": "execute_result",
          "data": {
            "text/plain": [
              "<matplotlib.axes._subplots.AxesSubplot at 0x7f8b5003c4d0>"
            ]
          },
          "metadata": {},
          "execution_count": 668
        },
        {
          "output_type": "display_data",
          "data": {
            "text/plain": [
              "<Figure size 1080x504 with 2 Axes>"
            ],
            "image/png": "[encoded data removed]"
          },
          "metadata": {
            "needs_background": "light"
          }
        }
      ]
    },
    {
      "cell_type": "markdown",
      "source": [
        "<font color = \"orange\">***Intrepretation:*** </font>\n",
        "***Tier 2 location type outlet has more sales***"
      ],
      "metadata": {
        "id": "1M98jvcbj_My"
      }
    },
    {
      "cell_type": "markdown",
      "source": [
        "###<font color=\"ORANGE\"> Analysis of Outlet_Size and Item_Outlet_Sales features:"
      ],
      "metadata": {
        "id": "xE5v6HnpPJ5l"
      }
    },
    {
      "cell_type": "code",
      "source": [
        "plt.figure(figsize = (15,7))\n",
        "plt.subplot(121)\n",
        "sns.boxplot(df[\"Outlet_Size\"], df[\"Item_Outlet_Sales\"])\n",
        "\n",
        "plt.subplot(122)\n",
        "sns.barplot(df[\"Outlet_Size\"], df[\"Item_Outlet_Sales\"], ci = None)"
      ],
      "metadata": {
        "colab": {
          "base_uri": "https://localhost:8080/",
          "height": 460
        },
        "id": "d9AKdRldoi1e",
        "outputId": "38a35113-2ad4-492e-ef9d-a226b7417d2e"
      },
      "execution_count": 669,
      "outputs": [
        {
          "output_type": "execute_result",
          "data": {
            "text/plain": [
              "<matplotlib.axes._subplots.AxesSubplot at 0x7f8b4fd9eb90>"
            ]
          },
          "metadata": {},
          "execution_count": 669
        },
        {
          "output_type": "display_data",
          "data": {
            "text/plain": [
              "<Figure size 1080x504 with 2 Axes>"
            ],
            "image/png": "[encoded data removed]"
          },
          "metadata": {
            "needs_background": "light"
          }
        }
      ]
    },
    {
      "cell_type": "markdown",
      "source": [
        "<font color = \"orange\">***Intrepretation:*** </font>\n",
        "***outlets with high size has more sales***"
      ],
      "metadata": {
        "id": "62RFLfaQkGop"
      }
    },
    {
      "cell_type": "markdown",
      "source": [
        "###<font color=\"ORANGE\"> Analysis of Item_Fat_Content and Item_Outlet_Sales features:"
      ],
      "metadata": {
        "id": "b0mLlzp-POOa"
      }
    },
    {
      "cell_type": "code",
      "source": [
        "plt.figure(figsize = (15,7))\n",
        "plt.subplot(121)\n",
        "sns.boxplot(df[\"Item_Fat_Content\"], df[\"Item_Outlet_Sales\"])\n",
        "\n",
        "plt.subplot(122)\n",
        "sns.barplot(df[\"Item_Fat_Content\"], df[\"Item_Outlet_Sales\"], ci = None)"
      ],
      "metadata": {
        "colab": {
          "base_uri": "https://localhost:8080/",
          "height": 460
        },
        "id": "huRKYl7q-zb5",
        "outputId": "eee9a5a0-7881-40a5-bbf9-5d6e0e99c9b3"
      },
      "execution_count": 670,
      "outputs": [
        {
          "output_type": "execute_result",
          "data": {
            "text/plain": [
              "<matplotlib.axes._subplots.AxesSubplot at 0x7f8b4fc538d0>"
            ]
          },
          "metadata": {},
          "execution_count": 670
        },
        {
          "output_type": "display_data",
          "data": {
            "text/plain": [
              "<Figure size 1080x504 with 2 Axes>"
            ],
            "image/png": "[encoded data removed]"
          },
          "metadata": {
            "needs_background": "light"
          }
        }
      ]
    },
    {
      "cell_type": "markdown",
      "source": [
        "<font color = \"orange\">***Intrepretation:*** </font>\n",
        "***regular items with fat are sold more when compared to low fat items. So if store owners increase the quantity of regular items, it will be helpful for them to increase the profits***"
      ],
      "metadata": {
        "id": "Uj3W2m13kQI1"
      }
    },
    {
      "cell_type": "markdown",
      "source": [
        "###<font color=\"ORANGE\"> Analysis of Item_Type and Item_Outlet_Sales features:"
      ],
      "metadata": {
        "id": "Ecq7WMM-PSXN"
      }
    },
    {
      "cell_type": "code",
      "source": [
        "plt.figure(figsize = (15,7))\n",
        "plt.subplot(121)\n",
        "sns.boxplot(df[\"Item_Type\"], df[\"Item_Outlet_Sales\"])\n",
        "plt.xticks(rotation = 90)\n",
        "\n",
        "plt.subplot(122)\n",
        "sns.barplot(df[\"Item_Type\"], df[\"Item_Outlet_Sales\"], ci = None)\n",
        "plt.xticks(rotation = 90)"
      ],
      "metadata": {
        "colab": {
          "base_uri": "https://localhost:8080/",
          "height": 576
        },
        "id": "OzUJmgvl-6hg",
        "outputId": "f61cc781-ebdd-424f-b3fa-7db491804075"
      },
      "execution_count": 671,
      "outputs": [
        {
          "output_type": "execute_result",
          "data": {
            "text/plain": [
              "(array([ 0,  1,  2,  3,  4,  5,  6,  7,  8,  9, 10, 11, 12, 13, 14, 15]),\n",
              " <a list of 16 Text major ticklabel objects>)"
            ]
          },
          "metadata": {},
          "execution_count": 671
        },
        {
          "output_type": "display_data",
          "data": {
            "text/plain": [
              "<Figure size 1080x504 with 2 Axes>"
            ],
            "image/png": "[encoded data removed]"
          },
          "metadata": {
            "needs_background": "light"
          }
        }
      ]
    },
    {
      "cell_type": "markdown",
      "source": [
        "<font color = \"orange\">***Intrepretation:*** </font>\n",
        "***seafoods, starchy foods and snack foods are mostly sold items types***"
      ],
      "metadata": {
        "id": "egDzCqAvknbn"
      }
    },
    {
      "cell_type": "markdown",
      "source": [
        "###<font color=\"ORANGE\"> Analysis of Item_Visibility and Item_Outlet_Sales features:"
      ],
      "metadata": {
        "id": "XvqGxedxPWXO"
      }
    },
    {
      "cell_type": "code",
      "source": [
        "sns.lmplot(x = \"Item_Visibility\", y = \"Item_Outlet_Sales\", data = df, ci = None)"
      ],
      "metadata": {
        "colab": {
          "base_uri": "https://localhost:8080/",
          "height": 386
        },
        "id": "uz2jIqfisx3b",
        "outputId": "2b6707b1-f6f4-4101-8eeb-e35f5593dc1d"
      },
      "execution_count": 672,
      "outputs": [
        {
          "output_type": "execute_result",
          "data": {
            "text/plain": [
              "<seaborn.axisgrid.FacetGrid at 0x7f8b4f9734d0>"
            ]
          },
          "metadata": {},
          "execution_count": 672
        },
        {
          "output_type": "display_data",
          "data": {
            "text/plain": [
              "<Figure size 360x360 with 1 Axes>"
            ],
            "image/png": "[encoded data removed]"
          },
          "metadata": {
            "needs_background": "light"
          }
        }
      ]
    },
    {
      "cell_type": "markdown",
      "source": [
        "<font color = \"orange\">***Intrepretation:*** </font>\n",
        "***if the item visibility is high then the sales will be more***"
      ],
      "metadata": {
        "id": "RbxQCB3xk7oP"
      }
    },
    {
      "cell_type": "markdown",
      "source": [
        "###<font color=\"ORANGE\"> Analysis of Item_Weight and Item_Outlet_Sales features:"
      ],
      "metadata": {
        "id": "u7oNGE8uPZiI"
      }
    },
    {
      "cell_type": "code",
      "source": [
        "sns.lmplot(x = \"Item_Weight\", y = \"Item_Outlet_Sales\", data = df, ci = None)"
      ],
      "metadata": {
        "colab": {
          "base_uri": "https://localhost:8080/",
          "height": 386
        },
        "id": "y6euI35Us9Nz",
        "outputId": "4f04a7b7-e8db-4578-ffbf-3d83ab7bca7e"
      },
      "execution_count": 673,
      "outputs": [
        {
          "output_type": "execute_result",
          "data": {
            "text/plain": [
              "<seaborn.axisgrid.FacetGrid at 0x7f8b4fb92750>"
            ]
          },
          "metadata": {},
          "execution_count": 673
        },
        {
          "output_type": "display_data",
          "data": {
            "text/plain": [
              "<Figure size 360x360 with 1 Axes>"
            ],
            "image/png": "[encoded data removed]"
          },
          "metadata": {
            "needs_background": "light"
          }
        }
      ]
    },
    {
      "cell_type": "markdown",
      "source": [
        "<font color = \"orange\">***Intrepretation:*** </font>\n",
        "***weight of the item has effect on the sales only for few items. From the graph we can see that there is no much effect of item-weight on the sales. In some cases, items with less weight also costs high***"
      ],
      "metadata": {
        "id": "algStx27lKHc"
      }
    },
    {
      "cell_type": "markdown",
      "source": [
        "###<font color=\"ORANGE\"> Analysis of Item_MRP and Item_Outlet_Sales features:"
      ],
      "metadata": {
        "id": "A5pXHQLRPdGy"
      }
    },
    {
      "cell_type": "code",
      "source": [
        "sns.lmplot(x = \"Item_MRP\", y = \"Item_Outlet_Sales\", data = df, ci = None)"
      ],
      "metadata": {
        "colab": {
          "base_uri": "https://localhost:8080/",
          "height": 386
        },
        "id": "dYBsLB9ZtDgT",
        "outputId": "aca0f187-33c1-40db-c876-0ffcfb41a7b5"
      },
      "execution_count": 674,
      "outputs": [
        {
          "output_type": "execute_result",
          "data": {
            "text/plain": [
              "<seaborn.axisgrid.FacetGrid at 0x7f8b4f8a8890>"
            ]
          },
          "metadata": {},
          "execution_count": 674
        },
        {
          "output_type": "display_data",
          "data": {
            "text/plain": [
              "<Figure size 360x360 with 1 Axes>"
            ],
            "image/png": "[encoded data removed]"
          },
          "metadata": {
            "needs_background": "light"
          }
        }
      ]
    },
    {
      "cell_type": "markdown",
      "source": [
        "<font color = \"orange\">***Intrepretation:*** </font>\n",
        "***If the MRP inreases the outlet sales also increases***"
      ],
      "metadata": {
        "id": "WdOaGAp8lsl-"
      }
    },
    {
      "cell_type": "markdown",
      "source": [
        "##<font color = \"orange\"> Feature Engineering:"
      ],
      "metadata": {
        "id": "VkHpXhLnPgye"
      }
    },
    {
      "cell_type": "markdown",
      "source": [
        "###<font color = \"orange\">converting object type features into categorical type:"
      ],
      "metadata": {
        "id": "mPy2TAoWmo3V"
      }
    },
    {
      "cell_type": "code",
      "source": [
        "\n",
        "df[\"Item_Fat_Content\"] =  df[\"Item_Fat_Content\"].astype(\"category\")\n",
        "df[\"Item_Type\"] =  df[\"Item_Type\"].astype(\"category\")\n",
        "df[\"Outlet_Size\"] =  df[\"Outlet_Size\"].astype(\"category\")\n",
        "df[\"Outlet_Location_Type\"] =  df[\"Outlet_Location_Type\"].astype(\"category\")\n",
        "df[\"Outlet_Type\"] =  df[\"Outlet_Type\"].astype(\"category\")"
      ],
      "metadata": {
        "id": "ivgjl2rLkOIn"
      },
      "execution_count": 675,
      "outputs": []
    },
    {
      "cell_type": "code",
      "source": [
        "df.info()"
      ],
      "metadata": {
        "colab": {
          "base_uri": "https://localhost:8080/"
        },
        "id": "Vynx0ddBlGrN",
        "outputId": "b75736bc-0d97-4965-8565-8f2dc9dbc228"
      },
      "execution_count": 676,
      "outputs": [
        {
          "output_type": "stream",
          "name": "stdout",
          "text": [
            "<class 'pandas.core.frame.DataFrame'>\n",
            "RangeIndex: 14204 entries, 0 to 14203\n",
            "Data columns (total 9 columns):\n",
            " #   Column                Non-Null Count  Dtype   \n",
            "---  ------                --------------  -----   \n",
            " 0   Item_Weight           14204 non-null  float64 \n",
            " 1   Item_Fat_Content      14204 non-null  category\n",
            " 2   Item_Visibility       14204 non-null  float64 \n",
            " 3   Item_Type             14204 non-null  category\n",
            " 4   Item_MRP              14204 non-null  float64 \n",
            " 5   Outlet_Size           14204 non-null  category\n",
            " 6   Outlet_Location_Type  14204 non-null  category\n",
            " 7   Outlet_Type           14204 non-null  category\n",
            " 8   Item_Outlet_Sales     8523 non-null   float64 \n",
            "dtypes: category(5), float64(4)\n",
            "memory usage: 514.6 KB\n"
          ]
        }
      ]
    },
    {
      "cell_type": "markdown",
      "source": [
        "***now no features are of object type***"
      ],
      "metadata": {
        "id": "1fO23CSQmv_D"
      }
    },
    {
      "cell_type": "markdown",
      "source": [
        "##<font color = \"orange\"> Feature Scaling:"
      ],
      "metadata": {
        "id": "s0BMNl30Pqu_"
      }
    },
    {
      "cell_type": "markdown",
      "source": [
        "###<font color = \"orange\">converting categorical features to numerical type features:"
      ],
      "metadata": {
        "id": "1TdsY07mm0b4"
      }
    },
    {
      "cell_type": "code",
      "source": [
        "from sklearn.preprocessing import LabelEncoder"
      ],
      "metadata": {
        "id": "yvTtc6RQlJcE"
      },
      "execution_count": 677,
      "outputs": []
    },
    {
      "cell_type": "code",
      "source": [
        "le = LabelEncoder()\n",
        "\n",
        "df[\"Item_Fat_Content\"] =  le.fit_transform(df[\"Item_Fat_Content\"])\n",
        "\n",
        "df[\"Item_Type\"] =  le.fit_transform(df[\"Item_Type\"])\n",
        "\n",
        "df[\"Outlet_Size\"] =  le.fit_transform(df[\"Outlet_Size\"])\n",
        "\n",
        "df[\"Outlet_Location_Type\"] =  le.fit_transform(df[\"Outlet_Location_Type\"])\n",
        "\n",
        "df[\"Outlet_Type\"] =  le.fit_transform(df[\"Outlet_Type\"])"
      ],
      "metadata": {
        "id": "-bvXZMxUlTp7"
      },
      "execution_count": 678,
      "outputs": []
    },
    {
      "cell_type": "code",
      "source": [
        "df.info()"
      ],
      "metadata": {
        "colab": {
          "base_uri": "https://localhost:8080/"
        },
        "id": "OgfKaIK2lz_r",
        "outputId": "f99bccfd-71ad-4014-84b5-e8f998390533"
      },
      "execution_count": 679,
      "outputs": [
        {
          "output_type": "stream",
          "name": "stdout",
          "text": [
            "<class 'pandas.core.frame.DataFrame'>\n",
            "RangeIndex: 14204 entries, 0 to 14203\n",
            "Data columns (total 9 columns):\n",
            " #   Column                Non-Null Count  Dtype  \n",
            "---  ------                --------------  -----  \n",
            " 0   Item_Weight           14204 non-null  float64\n",
            " 1   Item_Fat_Content      14204 non-null  int64  \n",
            " 2   Item_Visibility       14204 non-null  float64\n",
            " 3   Item_Type             14204 non-null  int64  \n",
            " 4   Item_MRP              14204 non-null  float64\n",
            " 5   Outlet_Size           14204 non-null  int64  \n",
            " 6   Outlet_Location_Type  14204 non-null  int64  \n",
            " 7   Outlet_Type           14204 non-null  int64  \n",
            " 8   Item_Outlet_Sales     8523 non-null   float64\n",
            "dtypes: float64(4), int64(5)\n",
            "memory usage: 998.8 KB\n"
          ]
        }
      ]
    },
    {
      "cell_type": "markdown",
      "source": [
        "***now all the features are of numerical type and are ready for further analysis***"
      ],
      "metadata": {
        "id": "LaiHhOe7m6lQ"
      }
    },
    {
      "cell_type": "markdown",
      "source": [
        "##<font color = \"orange\"> Standardizing the data:"
      ],
      "metadata": {
        "id": "pKjKmjA3PtuB"
      }
    },
    {
      "cell_type": "markdown",
      "source": [
        "###<font color = \"orange\">normalizing the data using standard scaler:"
      ],
      "metadata": {
        "id": "pzs-5VuInAmW"
      }
    },
    {
      "cell_type": "code",
      "source": [
        "from sklearn.preprocessing import StandardScaler"
      ],
      "metadata": {
        "id": "AVYgYBOpl1i7"
      },
      "execution_count": 680,
      "outputs": []
    },
    {
      "cell_type": "code",
      "source": [
        "scaler = StandardScaler()"
      ],
      "metadata": {
        "id": "LM39bVA9l_6r"
      },
      "execution_count": 681,
      "outputs": []
    },
    {
      "cell_type": "code",
      "source": [
        "scaled_data = scaler.fit_transform(df)"
      ],
      "metadata": {
        "id": "b-8K4N4bmDdq"
      },
      "execution_count": 682,
      "outputs": []
    },
    {
      "cell_type": "code",
      "source": [
        "scaled_df = pd.DataFrame(scaled_data, columns = df.columns)\n",
        "scaled_df.sample(3)"
      ],
      "metadata": {
        "colab": {
          "base_uri": "https://localhost:8080/",
          "height": 144
        },
        "id": "1pBV9072mL4J",
        "outputId": "32dabc53-da91-43cb-949b-d8b9c2ecf87a"
      },
      "execution_count": 683,
      "outputs": [
        {
          "output_type": "execute_result",
          "data": {
            "text/plain": [
              "       Item_Weight  Item_Fat_Content  Item_Visibility  Item_Type  Item_MRP  \\\n",
              "10345     0.624871          1.352792        -1.394141   0.657587  1.046844   \n",
              "12616     1.248319         -0.739212         1.234950   0.894930 -1.363397   \n",
              "5994     -0.666096         -0.739212         0.086114   0.182903  0.292430   \n",
              "\n",
              "       Outlet_Size  Outlet_Location_Type  Outlet_Type  Item_Outlet_Sales  \n",
              "10345     0.905347             -1.369286    -0.252702                NaN  \n",
              "12616    -2.055636              1.091566    -0.252702                NaN  \n",
              "5994     -0.575144              1.091566    -1.508171          -0.958774  "
            ],
            "text/html": [
              "\n",
              "  <div id=\"df-38eed0b3-f912-4dae-a928-b63cacb2e5f9\">\n",
              "    <div class=\"colab-df-container\">\n",
              "      <div>\n",
              "<style scoped>\n",
              "    .dataframe tbody tr th:only-of-type {\n",
              "        vertical-align: middle;\n",
              "    }\n",
              "\n",
              "    .dataframe tbody tr th {\n",
              "        vertical-align: top;\n",
              "    }\n",
              "\n",
              "    .dataframe thead th {\n",
              "        text-align: right;\n",
              "    }\n",
              "</style>\n",
              "<table border=\"1\" class=\"dataframe\">\n",
              "  <thead>\n",
              "    <tr style=\"text-align: right;\">\n",
              "      <th></th>\n",
              "      <th>Item_Weight</th>\n",
              "      <th>Item_Fat_Content</th>\n",
              "      <th>Item_Visibility</th>\n",
              "      <th>Item_Type</th>\n",
              "      <th>Item_MRP</th>\n",
              "      <th>Outlet_Size</th>\n",
              "      <th>Outlet_Location_Type</th>\n",
              "      <th>Outlet_Type</th>\n",
              "      <th>Item_Outlet_Sales</th>\n",
              "    </tr>\n",
              "  </thead>\n",
              "  <tbody>\n",
              "    <tr>\n",
              "      <th>10345</th>\n",
              "      <td>0.624871</td>\n",
              "      <td>1.352792</td>\n",
              "      <td>-1.394141</td>\n",
              "      <td>0.657587</td>\n",
              "      <td>1.046844</td>\n",
              "      <td>0.905347</td>\n",
              "      <td>-1.369286</td>\n",
              "      <td>-0.252702</td>\n",
              "      <td>NaN</td>\n",
              "    </tr>\n",
              "    <tr>\n",
              "      <th>12616</th>\n",
              "      <td>1.248319</td>\n",
              "      <td>-0.739212</td>\n",
              "      <td>1.234950</td>\n",
              "      <td>0.894930</td>\n",
              "      <td>-1.363397</td>\n",
              "      <td>-2.055636</td>\n",
              "      <td>1.091566</td>\n",
              "      <td>-0.252702</td>\n",
              "      <td>NaN</td>\n",
              "    </tr>\n",
              "    <tr>\n",
              "      <th>5994</th>\n",
              "      <td>-0.666096</td>\n",
              "      <td>-0.739212</td>\n",
              "      <td>0.086114</td>\n",
              "      <td>0.182903</td>\n",
              "      <td>0.292430</td>\n",
              "      <td>-0.575144</td>\n",
              "      <td>1.091566</td>\n",
              "      <td>-1.508171</td>\n",
              "      <td>-0.958774</td>\n",
              "    </tr>\n",
              "  </tbody>\n",
              "</table>\n",
              "</div>\n",
              "      <button class=\"colab-df-convert\" onclick=\"convertToInteractive('df-38eed0b3-f912-4dae-a928-b63cacb2e5f9')\"\n",
              "              title=\"Convert this dataframe to an interactive table.\"\n",
              "              style=\"display:none;\">\n",
              "        \n",
              "  <svg xmlns=\"http://www.w3.org/2000/svg\" height=\"24px\"viewBox=\"0 0 24 24\"\n",
              "       width=\"24px\">\n",
              "    <path d=\"M0 0h24v24H0V0z\" fill=\"none\"/>\n",
              "    <path d=\"M18.56 5.44l.94 2.06.94-2.06 2.06-.94-2.06-.94-.94-2.06-.94 2.06-2.06.94zm-11 1L8.5 8.5l.94-2.06 2.06-.94-2.06-.94L8.5 2.5l-.94 2.06-2.06.94zm10 10l.94 2.06.94-2.06 2.06-.94-2.06-.94-.94-2.06-.94 2.06-2.06.94z\"/><path d=\"M17.41 7.96l-1.37-1.37c-.4-.4-.92-.59-1.43-.59-.52 0-1.04.2-1.43.59L10.3 9.45l-7.72 7.72c-.78.78-.78 2.05 0 2.83L4 21.41c.39.39.9.59 1.41.59.51 0 1.02-.2 1.41-.59l7.78-7.78 2.81-2.81c.8-.78.8-2.07 0-2.86zM5.41 20L4 18.59l7.72-7.72 1.47 1.35L5.41 20z\"/>\n",
              "  </svg>\n",
              "      </button>\n",
              "      \n",
              "  <style>\n",
              "    .colab-df-container {\n",
              "      display:flex;\n",
              "      flex-wrap:wrap;\n",
              "      gap: 12px;\n",
              "    }\n",
              "\n",
              "    .colab-df-convert {\n",
              "      background-color: #E8F0FE;\n",
              "      border: none;\n",
              "      border-radius: 50%;\n",
              "      cursor: pointer;\n",
              "      display: none;\n",
              "      fill: #1967D2;\n",
              "      height: 32px;\n",
              "      padding: 0 0 0 0;\n",
              "      width: 32px;\n",
              "    }\n",
              "\n",
              "    .colab-df-convert:hover {\n",
              "      background-color: #E2EBFA;\n",
              "      box-shadow: 0px 1px 2px rgba(60, 64, 67, 0.3), 0px 1px 3px 1px rgba(60, 64, 67, 0.15);\n",
              "      fill: #174EA6;\n",
              "    }\n",
              "\n",
              "    [theme=dark] .colab-df-convert {\n",
              "      background-color: #3B4455;\n",
              "      fill: #D2E3FC;\n",
              "    }\n",
              "\n",
              "    [theme=dark] .colab-df-convert:hover {\n",
              "      background-color: #434B5C;\n",
              "      box-shadow: 0px 1px 3px 1px rgba(0, 0, 0, 0.15);\n",
              "      filter: drop-shadow(0px 1px 2px rgba(0, 0, 0, 0.3));\n",
              "      fill: #FFFFFF;\n",
              "    }\n",
              "  </style>\n",
              "\n",
              "      <script>\n",
              "        const buttonEl =\n",
              "          document.querySelector('#df-38eed0b3-f912-4dae-a928-b63cacb2e5f9 button.colab-df-convert');\n",
              "        buttonEl.style.display =\n",
              "          google.colab.kernel.accessAllowed ? 'block' : 'none';\n",
              "\n",
              "        async function convertToInteractive(key) {\n",
              "          const element = document.querySelector('#df-38eed0b3-f912-4dae-a928-b63cacb2e5f9');\n",
              "          const dataTable =\n",
              "            await google.colab.kernel.invokeFunction('convertToInteractive',\n",
              "                                                     [key], {});\n",
              "          if (!dataTable) return;\n",
              "\n",
              "          const docLinkHtml = 'Like what you see? Visit the ' +\n",
              "            '<a target=\"_blank\" href=https://colab.research.google.com/notebooks/data_table.ipynb>data table notebook</a>'\n",
              "            + ' to learn more about interactive tables.';\n",
              "          element.innerHTML = '';\n",
              "          dataTable['output_type'] = 'display_data';\n",
              "          await google.colab.output.renderOutput(dataTable, element);\n",
              "          const docLink = document.createElement('div');\n",
              "          docLink.innerHTML = docLinkHtml;\n",
              "          element.appendChild(docLink);\n",
              "        }\n",
              "      </script>\n",
              "    </div>\n",
              "  </div>\n",
              "  "
            ]
          },
          "metadata": {},
          "execution_count": 683
        }
      ]
    },
    {
      "cell_type": "markdown",
      "source": [
        "##<font color = \"orange\"> plotting correlation heatmap:"
      ],
      "metadata": {
        "id": "JI-Y8awdPxSa"
      }
    },
    {
      "cell_type": "code",
      "source": [
        "plt.figure(figsize = (15,7))\n",
        "\n",
        "sns.heatmap(scaled_df.corr(), annot = True, cmap = \"viridis\")"
      ],
      "metadata": {
        "colab": {
          "base_uri": "https://localhost:8080/",
          "height": 545
        },
        "id": "u0F5_gMamTqw",
        "outputId": "3aa49ff0-4241-44aa-f191-2b0f6c492c28"
      },
      "execution_count": 684,
      "outputs": [
        {
          "output_type": "execute_result",
          "data": {
            "text/plain": [
              "<matplotlib.axes._subplots.AxesSubplot at 0x7f8b4f7ebb90>"
            ]
          },
          "metadata": {},
          "execution_count": 684
        },
        {
          "output_type": "display_data",
          "data": {
            "text/plain": [
              "<Figure size 1080x504 with 2 Axes>"
            ],
            "image/png": "[encoded data removed]"
          },
          "metadata": {
            "needs_background": "light"
          }
        }
      ]
    },
    {
      "cell_type": "markdown",
      "source": [
        "***from the correlation heatmap, I conclude that target variable (item outlet sales) has good correlation with item MRP and Outlet type features***"
      ],
      "metadata": {
        "id": "J7W023mInH-y"
      }
    },
    {
      "cell_type": "markdown",
      "source": [
        "## <font color = \"orange\"> splitting of training and testing data:"
      ],
      "metadata": {
        "id": "Bms9_uMZP6BJ"
      }
    },
    {
      "cell_type": "markdown",
      "source": [
        "###<font color = \"orange\">taking data with null values in sales column into test dataset so that I can predict the sales values after building the model:"
      ],
      "metadata": {
        "id": "YzrGunaHnhyK"
      }
    },
    {
      "cell_type": "code",
      "source": [
        "test = df[df[\"Item_Outlet_Sales\"].isna()]\n",
        "test.head()"
      ],
      "metadata": {
        "colab": {
          "base_uri": "https://localhost:8080/",
          "height": 206
        },
        "id": "p7Rz5RrKuqAk",
        "outputId": "ddb757e2-a6e1-4918-face-b33977824a0b"
      },
      "execution_count": 685,
      "outputs": [
        {
          "output_type": "execute_result",
          "data": {
            "text/plain": [
              "      Item_Weight  Item_Fat_Content  Item_Visibility  Item_Type  Item_MRP  \\\n",
              "8523       20.750                 0         0.007565         13  107.8622   \n",
              "8524        8.300                 1         0.038428          4   87.3198   \n",
              "8525       14.600                 0         0.099575         11  241.7538   \n",
              "8526        7.315                 0         0.015388         13  155.0340   \n",
              "8527       13.600                 1         0.118599          4  234.2300   \n",
              "\n",
              "      Outlet_Size  Outlet_Location_Type  Outlet_Type  Item_Outlet_Sales  \n",
              "8523            1                     0            1                NaN  \n",
              "8524            2                     1            1                NaN  \n",
              "8525            1                     2            0                NaN  \n",
              "8526            2                     1            1                NaN  \n",
              "8527            1                     2            3                NaN  "
            ],
            "text/html": [
              "\n",
              "  <div id=\"df-dfa7e72f-d079-4e1c-876b-3c10dc451a97\">\n",
              "    <div class=\"colab-df-container\">\n",
              "      <div>\n",
              "<style scoped>\n",
              "    .dataframe tbody tr th:only-of-type {\n",
              "        vertical-align: middle;\n",
              "    }\n",
              "\n",
              "    .dataframe tbody tr th {\n",
              "        vertical-align: top;\n",
              "    }\n",
              "\n",
              "    .dataframe thead th {\n",
              "        text-align: right;\n",
              "    }\n",
              "</style>\n",
              "<table border=\"1\" class=\"dataframe\">\n",
              "  <thead>\n",
              "    <tr style=\"text-align: right;\">\n",
              "      <th></th>\n",
              "      <th>Item_Weight</th>\n",
              "      <th>Item_Fat_Content</th>\n",
              "      <th>Item_Visibility</th>\n",
              "      <th>Item_Type</th>\n",
              "      <th>Item_MRP</th>\n",
              "      <th>Outlet_Size</th>\n",
              "      <th>Outlet_Location_Type</th>\n",
              "      <th>Outlet_Type</th>\n",
              "      <th>Item_Outlet_Sales</th>\n",
              "    </tr>\n",
              "  </thead>\n",
              "  <tbody>\n",
              "    <tr>\n",
              "      <th>8523</th>\n",
              "      <td>20.750</td>\n",
              "      <td>0</td>\n",
              "      <td>0.007565</td>\n",
              "      <td>13</td>\n",
              "      <td>107.8622</td>\n",
              "      <td>1</td>\n",
              "      <td>0</td>\n",
              "      <td>1</td>\n",
              "      <td>NaN</td>\n",
              "    </tr>\n",
              "    <tr>\n",
              "      <th>8524</th>\n",
              "      <td>8.300</td>\n",
              "      <td>1</td>\n",
              "      <td>0.038428</td>\n",
              "      <td>4</td>\n",
              "      <td>87.3198</td>\n",
              "      <td>2</td>\n",
              "      <td>1</td>\n",
              "      <td>1</td>\n",
              "      <td>NaN</td>\n",
              "    </tr>\n",
              "    <tr>\n",
              "      <th>8525</th>\n",
              "      <td>14.600</td>\n",
              "      <td>0</td>\n",
              "      <td>0.099575</td>\n",
              "      <td>11</td>\n",
              "      <td>241.7538</td>\n",
              "      <td>1</td>\n",
              "      <td>2</td>\n",
              "      <td>0</td>\n",
              "      <td>NaN</td>\n",
              "    </tr>\n",
              "    <tr>\n",
              "      <th>8526</th>\n",
              "      <td>7.315</td>\n",
              "      <td>0</td>\n",
              "      <td>0.015388</td>\n",
              "      <td>13</td>\n",
              "      <td>155.0340</td>\n",
              "      <td>2</td>\n",
              "      <td>1</td>\n",
              "      <td>1</td>\n",
              "      <td>NaN</td>\n",
              "    </tr>\n",
              "    <tr>\n",
              "      <th>8527</th>\n",
              "      <td>13.600</td>\n",
              "      <td>1</td>\n",
              "      <td>0.118599</td>\n",
              "      <td>4</td>\n",
              "      <td>234.2300</td>\n",
              "      <td>1</td>\n",
              "      <td>2</td>\n",
              "      <td>3</td>\n",
              "      <td>NaN</td>\n",
              "    </tr>\n",
              "  </tbody>\n",
              "</table>\n",
              "</div>\n",
              "      <button class=\"colab-df-convert\" onclick=\"convertToInteractive('df-dfa7e72f-d079-4e1c-876b-3c10dc451a97')\"\n",
              "              title=\"Convert this dataframe to an interactive table.\"\n",
              "              style=\"display:none;\">\n",
              "        \n",
              "  <svg xmlns=\"http://www.w3.org/2000/svg\" height=\"24px\"viewBox=\"0 0 24 24\"\n",
              "       width=\"24px\">\n",
              "    <path d=\"M0 0h24v24H0V0z\" fill=\"none\"/>\n",
              "    <path d=\"M18.56 5.44l.94 2.06.94-2.06 2.06-.94-2.06-.94-.94-2.06-.94 2.06-2.06.94zm-11 1L8.5 8.5l.94-2.06 2.06-.94-2.06-.94L8.5 2.5l-.94 2.06-2.06.94zm10 10l.94 2.06.94-2.06 2.06-.94-2.06-.94-.94-2.06-.94 2.06-2.06.94z\"/><path d=\"M17.41 7.96l-1.37-1.37c-.4-.4-.92-.59-1.43-.59-.52 0-1.04.2-1.43.59L10.3 9.45l-7.72 7.72c-.78.78-.78 2.05 0 2.83L4 21.41c.39.39.9.59 1.41.59.51 0 1.02-.2 1.41-.59l7.78-7.78 2.81-2.81c.8-.78.8-2.07 0-2.86zM5.41 20L4 18.59l7.72-7.72 1.47 1.35L5.41 20z\"/>\n",
              "  </svg>\n",
              "      </button>\n",
              "      \n",
              "  <style>\n",
              "    .colab-df-container {\n",
              "      display:flex;\n",
              "      flex-wrap:wrap;\n",
              "      gap: 12px;\n",
              "    }\n",
              "\n",
              "    .colab-df-convert {\n",
              "      background-color: #E8F0FE;\n",
              "      border: none;\n",
              "      border-radius: 50%;\n",
              "      cursor: pointer;\n",
              "      display: none;\n",
              "      fill: #1967D2;\n",
              "      height: 32px;\n",
              "      padding: 0 0 0 0;\n",
              "      width: 32px;\n",
              "    }\n",
              "\n",
              "    .colab-df-convert:hover {\n",
              "      background-color: #E2EBFA;\n",
              "      box-shadow: 0px 1px 2px rgba(60, 64, 67, 0.3), 0px 1px 3px 1px rgba(60, 64, 67, 0.15);\n",
              "      fill: #174EA6;\n",
              "    }\n",
              "\n",
              "    [theme=dark] .colab-df-convert {\n",
              "      background-color: #3B4455;\n",
              "      fill: #D2E3FC;\n",
              "    }\n",
              "\n",
              "    [theme=dark] .colab-df-convert:hover {\n",
              "      background-color: #434B5C;\n",
              "      box-shadow: 0px 1px 3px 1px rgba(0, 0, 0, 0.15);\n",
              "      filter: drop-shadow(0px 1px 2px rgba(0, 0, 0, 0.3));\n",
              "      fill: #FFFFFF;\n",
              "    }\n",
              "  </style>\n",
              "\n",
              "      <script>\n",
              "        const buttonEl =\n",
              "          document.querySelector('#df-dfa7e72f-d079-4e1c-876b-3c10dc451a97 button.colab-df-convert');\n",
              "        buttonEl.style.display =\n",
              "          google.colab.kernel.accessAllowed ? 'block' : 'none';\n",
              "\n",
              "        async function convertToInteractive(key) {\n",
              "          const element = document.querySelector('#df-dfa7e72f-d079-4e1c-876b-3c10dc451a97');\n",
              "          const dataTable =\n",
              "            await google.colab.kernel.invokeFunction('convertToInteractive',\n",
              "                                                     [key], {});\n",
              "          if (!dataTable) return;\n",
              "\n",
              "          const docLinkHtml = 'Like what you see? Visit the ' +\n",
              "            '<a target=\"_blank\" href=https://colab.research.google.com/notebooks/data_table.ipynb>data table notebook</a>'\n",
              "            + ' to learn more about interactive tables.';\n",
              "          element.innerHTML = '';\n",
              "          dataTable['output_type'] = 'display_data';\n",
              "          await google.colab.output.renderOutput(dataTable, element);\n",
              "          const docLink = document.createElement('div');\n",
              "          docLink.innerHTML = docLinkHtml;\n",
              "          element.appendChild(docLink);\n",
              "        }\n",
              "      </script>\n",
              "    </div>\n",
              "  </div>\n",
              "  "
            ]
          },
          "metadata": {},
          "execution_count": 685
        }
      ]
    },
    {
      "cell_type": "markdown",
      "source": [
        "###<font color = \"orange\">taking data without null values in sales column into train dataset so that I can use those sales values to build the model:"
      ],
      "metadata": {
        "id": "vM55qI-7nz93"
      }
    },
    {
      "cell_type": "code",
      "source": [
        "index1 = df[\"Item_Outlet_Sales\"].dropna().index\n",
        "index1"
      ],
      "metadata": {
        "colab": {
          "base_uri": "https://localhost:8080/"
        },
        "id": "xVAT3IBUvAR8",
        "outputId": "17848259-479f-42ac-eb73-ea279f2f9778"
      },
      "execution_count": 686,
      "outputs": [
        {
          "output_type": "execute_result",
          "data": {
            "text/plain": [
              "Int64Index([   0,    1,    2,    3,    4,    5,    6,    7,    8,    9,\n",
              "            ...\n",
              "            8513, 8514, 8515, 8516, 8517, 8518, 8519, 8520, 8521, 8522],\n",
              "           dtype='int64', length=8523)"
            ]
          },
          "metadata": {},
          "execution_count": 686
        }
      ]
    },
    {
      "cell_type": "code",
      "source": [
        "train = pd.DataFrame(df, index = index1)\n",
        "train.head()"
      ],
      "metadata": {
        "colab": {
          "base_uri": "https://localhost:8080/",
          "height": 206
        },
        "id": "kj7W3WwMvkya",
        "outputId": "ccb7cc8c-3ca8-4843-e5e1-89fa1f81ffd3"
      },
      "execution_count": 687,
      "outputs": [
        {
          "output_type": "execute_result",
          "data": {
            "text/plain": [
              "   Item_Weight  Item_Fat_Content  Item_Visibility  Item_Type  Item_MRP  \\\n",
              "0         9.30                 0         0.016047          4  249.8092   \n",
              "1         5.92                 1         0.019278         14   48.2692   \n",
              "2        17.50                 0         0.016760         10  141.6180   \n",
              "3        19.20                 1         0.074402          6  182.0950   \n",
              "4         8.93                 0         0.064299          9   53.8614   \n",
              "\n",
              "   Outlet_Size  Outlet_Location_Type  Outlet_Type  Item_Outlet_Sales  \n",
              "0            1                     0            1          3735.1380  \n",
              "1            1                     2            2           443.4228  \n",
              "2            1                     0            1          2097.2700  \n",
              "3            1                     2            0           732.3800  \n",
              "4            0                     2            1           994.7052  "
            ],
            "text/html": [
              "\n",
              "  <div id=\"df-178442e4-7b4d-49c5-bbc2-108d49419b26\">\n",
              "    <div class=\"colab-df-container\">\n",
              "      <div>\n",
              "<style scoped>\n",
              "    .dataframe tbody tr th:only-of-type {\n",
              "        vertical-align: middle;\n",
              "    }\n",
              "\n",
              "    .dataframe tbody tr th {\n",
              "        vertical-align: top;\n",
              "    }\n",
              "\n",
              "    .dataframe thead th {\n",
              "        text-align: right;\n",
              "    }\n",
              "</style>\n",
              "<table border=\"1\" class=\"dataframe\">\n",
              "  <thead>\n",
              "    <tr style=\"text-align: right;\">\n",
              "      <th></th>\n",
              "      <th>Item_Weight</th>\n",
              "      <th>Item_Fat_Content</th>\n",
              "      <th>Item_Visibility</th>\n",
              "      <th>Item_Type</th>\n",
              "      <th>Item_MRP</th>\n",
              "      <th>Outlet_Size</th>\n",
              "      <th>Outlet_Location_Type</th>\n",
              "      <th>Outlet_Type</th>\n",
              "      <th>Item_Outlet_Sales</th>\n",
              "    </tr>\n",
              "  </thead>\n",
              "  <tbody>\n",
              "    <tr>\n",
              "      <th>0</th>\n",
              "      <td>9.30</td>\n",
              "      <td>0</td>\n",
              "      <td>0.016047</td>\n",
              "      <td>4</td>\n",
              "      <td>249.8092</td>\n",
              "      <td>1</td>\n",
              "      <td>0</td>\n",
              "      <td>1</td>\n",
              "      <td>3735.1380</td>\n",
              "    </tr>\n",
              "    <tr>\n",
              "      <th>1</th>\n",
              "      <td>5.92</td>\n",
              "      <td>1</td>\n",
              "      <td>0.019278</td>\n",
              "      <td>14</td>\n",
              "      <td>48.2692</td>\n",
              "      <td>1</td>\n",
              "      <td>2</td>\n",
              "      <td>2</td>\n",
              "      <td>443.4228</td>\n",
              "    </tr>\n",
              "    <tr>\n",
              "      <th>2</th>\n",
              "      <td>17.50</td>\n",
              "      <td>0</td>\n",
              "      <td>0.016760</td>\n",
              "      <td>10</td>\n",
              "      <td>141.6180</td>\n",
              "      <td>1</td>\n",
              "      <td>0</td>\n",
              "      <td>1</td>\n",
              "      <td>2097.2700</td>\n",
              "    </tr>\n",
              "    <tr>\n",
              "      <th>3</th>\n",
              "      <td>19.20</td>\n",
              "      <td>1</td>\n",
              "      <td>0.074402</td>\n",
              "      <td>6</td>\n",
              "      <td>182.0950</td>\n",
              "      <td>1</td>\n",
              "      <td>2</td>\n",
              "      <td>0</td>\n",
              "      <td>732.3800</td>\n",
              "    </tr>\n",
              "    <tr>\n",
              "      <th>4</th>\n",
              "      <td>8.93</td>\n",
              "      <td>0</td>\n",
              "      <td>0.064299</td>\n",
              "      <td>9</td>\n",
              "      <td>53.8614</td>\n",
              "      <td>0</td>\n",
              "      <td>2</td>\n",
              "      <td>1</td>\n",
              "      <td>994.7052</td>\n",
              "    </tr>\n",
              "  </tbody>\n",
              "</table>\n",
              "</div>\n",
              "      <button class=\"colab-df-convert\" onclick=\"convertToInteractive('df-178442e4-7b4d-49c5-bbc2-108d49419b26')\"\n",
              "              title=\"Convert this dataframe to an interactive table.\"\n",
              "              style=\"display:none;\">\n",
              "        \n",
              "  <svg xmlns=\"http://www.w3.org/2000/svg\" height=\"24px\"viewBox=\"0 0 24 24\"\n",
              "       width=\"24px\">\n",
              "    <path d=\"M0 0h24v24H0V0z\" fill=\"none\"/>\n",
              "    <path d=\"M18.56 5.44l.94 2.06.94-2.06 2.06-.94-2.06-.94-.94-2.06-.94 2.06-2.06.94zm-11 1L8.5 8.5l.94-2.06 2.06-.94-2.06-.94L8.5 2.5l-.94 2.06-2.06.94zm10 10l.94 2.06.94-2.06 2.06-.94-2.06-.94-.94-2.06-.94 2.06-2.06.94z\"/><path d=\"M17.41 7.96l-1.37-1.37c-.4-.4-.92-.59-1.43-.59-.52 0-1.04.2-1.43.59L10.3 9.45l-7.72 7.72c-.78.78-.78 2.05 0 2.83L4 21.41c.39.39.9.59 1.41.59.51 0 1.02-.2 1.41-.59l7.78-7.78 2.81-2.81c.8-.78.8-2.07 0-2.86zM5.41 20L4 18.59l7.72-7.72 1.47 1.35L5.41 20z\"/>\n",
              "  </svg>\n",
              "      </button>\n",
              "      \n",
              "  <style>\n",
              "    .colab-df-container {\n",
              "      display:flex;\n",
              "      flex-wrap:wrap;\n",
              "      gap: 12px;\n",
              "    }\n",
              "\n",
              "    .colab-df-convert {\n",
              "      background-color: #E8F0FE;\n",
              "      border: none;\n",
              "      border-radius: 50%;\n",
              "      cursor: pointer;\n",
              "      display: none;\n",
              "      fill: #1967D2;\n",
              "      height: 32px;\n",
              "      padding: 0 0 0 0;\n",
              "      width: 32px;\n",
              "    }\n",
              "\n",
              "    .colab-df-convert:hover {\n",
              "      background-color: #E2EBFA;\n",
              "      box-shadow: 0px 1px 2px rgba(60, 64, 67, 0.3), 0px 1px 3px 1px rgba(60, 64, 67, 0.15);\n",
              "      fill: #174EA6;\n",
              "    }\n",
              "\n",
              "    [theme=dark] .colab-df-convert {\n",
              "      background-color: #3B4455;\n",
              "      fill: #D2E3FC;\n",
              "    }\n",
              "\n",
              "    [theme=dark] .colab-df-convert:hover {\n",
              "      background-color: #434B5C;\n",
              "      box-shadow: 0px 1px 3px 1px rgba(0, 0, 0, 0.15);\n",
              "      filter: drop-shadow(0px 1px 2px rgba(0, 0, 0, 0.3));\n",
              "      fill: #FFFFFF;\n",
              "    }\n",
              "  </style>\n",
              "\n",
              "      <script>\n",
              "        const buttonEl =\n",
              "          document.querySelector('#df-178442e4-7b4d-49c5-bbc2-108d49419b26 button.colab-df-convert');\n",
              "        buttonEl.style.display =\n",
              "          google.colab.kernel.accessAllowed ? 'block' : 'none';\n",
              "\n",
              "        async function convertToInteractive(key) {\n",
              "          const element = document.querySelector('#df-178442e4-7b4d-49c5-bbc2-108d49419b26');\n",
              "          const dataTable =\n",
              "            await google.colab.kernel.invokeFunction('convertToInteractive',\n",
              "                                                     [key], {});\n",
              "          if (!dataTable) return;\n",
              "\n",
              "          const docLinkHtml = 'Like what you see? Visit the ' +\n",
              "            '<a target=\"_blank\" href=https://colab.research.google.com/notebooks/data_table.ipynb>data table notebook</a>'\n",
              "            + ' to learn more about interactive tables.';\n",
              "          element.innerHTML = '';\n",
              "          dataTable['output_type'] = 'display_data';\n",
              "          await google.colab.output.renderOutput(dataTable, element);\n",
              "          const docLink = document.createElement('div');\n",
              "          docLink.innerHTML = docLinkHtml;\n",
              "          element.appendChild(docLink);\n",
              "        }\n",
              "      </script>\n",
              "    </div>\n",
              "  </div>\n",
              "  "
            ]
          },
          "metadata": {},
          "execution_count": 687
        }
      ]
    },
    {
      "cell_type": "code",
      "source": [
        "x_train = np.array(train[['Item_MRP','Item_Visibility','Outlet_Type']]).reshape((-1,3))\n",
        "y_train = np.array(train[\"Item_Outlet_Sales\"])\n",
        "\n",
        "x_test = np.array(test[['Item_MRP','Item_Visibility','Outlet_Type']]).reshape((-1,3))\n",
        "y_test = np.array(test[\"Item_Outlet_Sales\"])"
      ],
      "metadata": {
        "id": "yxHzZ97uwHsZ"
      },
      "execution_count": 688,
      "outputs": []
    },
    {
      "cell_type": "markdown",
      "source": [
        "## <font color = \"orange\"> Multiple Linear Regression Model:"
      ],
      "metadata": {
        "id": "nLRc8aNnQBqU"
      }
    },
    {
      "cell_type": "markdown",
      "source": [
        "###<font color = \"orange\">building the model:"
      ],
      "metadata": {
        "id": "1zfdygJ8n8aR"
      }
    },
    {
      "cell_type": "code",
      "source": [
        "from sklearn.linear_model  import LinearRegression"
      ],
      "metadata": {
        "id": "7kzhKTrvwvCg"
      },
      "execution_count": 689,
      "outputs": []
    },
    {
      "cell_type": "code",
      "source": [
        "LR_model = LinearRegression()"
      ],
      "metadata": {
        "id": "WJ0aCJN5xA3P"
      },
      "execution_count": 690,
      "outputs": []
    },
    {
      "cell_type": "markdown",
      "source": [
        "###<font color = \"orange\">fitting train data to the model:"
      ],
      "metadata": {
        "id": "Y9g1ZvWfn-5r"
      }
    },
    {
      "cell_type": "code",
      "source": [
        "a = LR_model.fit(x_train, y_train)"
      ],
      "metadata": {
        "id": "uDjfUr4QxIl_"
      },
      "execution_count": 691,
      "outputs": []
    },
    {
      "cell_type": "markdown",
      "source": [
        "###<font color = \"orange\">calculating the score of the model:"
      ],
      "metadata": {
        "id": "pzEErDHboFVP"
      }
    },
    {
      "cell_type": "code",
      "source": [
        "LR_score = a.score(x_train,y_train)\n",
        "LR_score"
      ],
      "metadata": {
        "colab": {
          "base_uri": "https://localhost:8080/"
        },
        "id": "vRUGv5wVxOhG",
        "outputId": "b5057785-b60f-4963-c8a1-25e5b993ff4a"
      },
      "execution_count": 692,
      "outputs": [
        {
          "output_type": "execute_result",
          "data": {
            "text/plain": [
              "0.42873650809713704"
            ]
          },
          "metadata": {},
          "execution_count": 692
        }
      ]
    },
    {
      "cell_type": "markdown",
      "source": [
        "### <font color = \"orange\">predicting the train values:"
      ],
      "metadata": {
        "id": "qE2MnYyroJSj"
      }
    },
    {
      "cell_type": "code",
      "source": [
        "LR_predicted_train_y = LR_model.predict(x_train)"
      ],
      "metadata": {
        "id": "Zfet8JVP1qHw"
      },
      "execution_count": 693,
      "outputs": []
    },
    {
      "cell_type": "markdown",
      "source": [
        "###<font color = \"orange\">finding MSE and RMSE with predicted and actual train values:"
      ],
      "metadata": {
        "id": "szIabU4yoOTm"
      }
    },
    {
      "cell_type": "code",
      "source": [
        "from sklearn.metrics import mean_squared_error\n",
        "from sklearn.metrics import mean_absolute_error"
      ],
      "metadata": {
        "id": "-lNfB2ck0axf"
      },
      "execution_count": 694,
      "outputs": []
    },
    {
      "cell_type": "code",
      "source": [
        "LR_MSE = mean_squared_error(y_train, LR_predicted_train_y)\n",
        "print(f'MSE for multiple linear regression model: {LR_MSE}')\n",
        "LR_RMSE = mean_squared_error(y_train, LR_predicted_train_y,  squared = False)\n",
        "print(f'MSE for multiple linear regression model: {LR_RMSE}')"
      ],
      "metadata": {
        "colab": {
          "base_uri": "https://localhost:8080/"
        },
        "id": "adrsG0YL0kPO",
        "outputId": "f47ddf4a-1c09-4b4b-89ee-476bc2ca802e"
      },
      "execution_count": 695,
      "outputs": [
        {
          "output_type": "stream",
          "name": "stdout",
          "text": [
            "MSE for multiple linear regression model: 1267568.039220981\n",
            "MSE for multiple linear regression model: 1125.86324179315\n"
          ]
        }
      ]
    },
    {
      "cell_type": "markdown",
      "source": [
        "###<font color = \"orange\"> predicting the test values:"
      ],
      "metadata": {
        "id": "nx7fcMAXoUxC"
      }
    },
    {
      "cell_type": "code",
      "source": [
        "LR_predicted_test_y = LR_model.predict(x_test)"
      ],
      "metadata": {
        "id": "61kH_7lSxTD2"
      },
      "execution_count": 696,
      "outputs": []
    },
    {
      "cell_type": "markdown",
      "source": [
        "## <font color = \"orange\"> bagging with random forest:"
      ],
      "metadata": {
        "id": "x-R_3rWN6G0D"
      }
    },
    {
      "cell_type": "markdown",
      "source": [
        "###<font color = \"orange\">building the model:"
      ],
      "metadata": {
        "id": "rdQpxVSEoaPq"
      }
    },
    {
      "cell_type": "code",
      "source": [
        "from sklearn.ensemble import RandomForestRegressor"
      ],
      "metadata": {
        "id": "9Emk8syN5Hx1"
      },
      "execution_count": 697,
      "outputs": []
    },
    {
      "cell_type": "code",
      "source": [
        "RF_model = RandomForestRegressor()"
      ],
      "metadata": {
        "id": "Tt2kLLza6KUY"
      },
      "execution_count": 698,
      "outputs": []
    },
    {
      "cell_type": "markdown",
      "source": [
        "###<font color = \"orange\">fitting train data to the model:"
      ],
      "metadata": {
        "id": "gMqjeZFnof1m"
      }
    },
    {
      "cell_type": "code",
      "source": [
        "b = RF_model.fit(x_train,y_train)"
      ],
      "metadata": {
        "id": "dXeQUkfu6MpK"
      },
      "execution_count": 699,
      "outputs": []
    },
    {
      "cell_type": "markdown",
      "source": [
        "###<font color = \"orange\">calculating the score of the model:"
      ],
      "metadata": {
        "id": "JimgTCPYowHl"
      }
    },
    {
      "cell_type": "code",
      "source": [
        "bagging_score = b.score(x_train,y_train)\n",
        "bagging_score"
      ],
      "metadata": {
        "colab": {
          "base_uri": "https://localhost:8080/"
        },
        "id": "u4ShPlMt6Y-i",
        "outputId": "a318698f-3abd-4951-f26a-22c3bc9aba39"
      },
      "execution_count": 700,
      "outputs": [
        {
          "output_type": "execute_result",
          "data": {
            "text/plain": [
              "0.9256997785132306"
            ]
          },
          "metadata": {},
          "execution_count": 700
        }
      ]
    },
    {
      "cell_type": "markdown",
      "source": [
        "###<font color = \"orange\"> predicting the train values:"
      ],
      "metadata": {
        "id": "u-B-GBO3o2Uj"
      }
    },
    {
      "cell_type": "code",
      "source": [
        "RF_predicted_train_y = RF_model.predict(x_train)"
      ],
      "metadata": {
        "id": "QJylSpAF6kNw"
      },
      "execution_count": 701,
      "outputs": []
    },
    {
      "cell_type": "markdown",
      "source": [
        "###<font color = \"orange\">finding MSE and RMSE with predicted and actual train values:"
      ],
      "metadata": {
        "id": "6kY0vWRLo-xc"
      }
    },
    {
      "cell_type": "code",
      "source": [
        "RF_MSE = mean_squared_error(y_train, RF_predicted_train_y)\n",
        "print(f'MSE for bagging model: {RF_MSE}')\n",
        "RF_RMSE = mean_squared_error(y_train, RF_predicted_train_y,  squared = False)\n",
        "print(f'MSE for bagging model: {RF_RMSE}')"
      ],
      "metadata": {
        "colab": {
          "base_uri": "https://localhost:8080/"
        },
        "id": "__3AQAeN6r7n",
        "outputId": "41a0dfb9-9595-48c2-de63-6eb4165dbf5c"
      },
      "execution_count": 702,
      "outputs": [
        {
          "output_type": "stream",
          "name": "stdout",
          "text": [
            "MSE for bagging model: 164863.65293527854\n",
            "MSE for bagging model: 406.03405391084937\n"
          ]
        }
      ]
    },
    {
      "cell_type": "markdown",
      "source": [
        "### <font color = \"orange\">predicting the test values:"
      ],
      "metadata": {
        "id": "rZMwM93CpIzt"
      }
    },
    {
      "cell_type": "code",
      "source": [
        "RF_predicted_test_y = RF_model.predict(x_test)"
      ],
      "metadata": {
        "id": "_nhSIC3K7H7-"
      },
      "execution_count": 703,
      "outputs": []
    },
    {
      "cell_type": "markdown",
      "source": [
        "## <font color = \"orange\"> boosting with adaboost:"
      ],
      "metadata": {
        "id": "0qoLkUP77VcE"
      }
    },
    {
      "cell_type": "markdown",
      "source": [
        "###<font color = \"orange\">building the model:"
      ],
      "metadata": {
        "id": "okDJ5d2Kobh0"
      }
    },
    {
      "cell_type": "code",
      "source": [
        "from sklearn.ensemble import AdaBoostRegressor"
      ],
      "metadata": {
        "id": "aDMb_7987UZh"
      },
      "execution_count": 704,
      "outputs": []
    },
    {
      "cell_type": "code",
      "source": [
        "ADA_model = AdaBoostRegressor()"
      ],
      "metadata": {
        "id": "EKkNQAIq7aKF"
      },
      "execution_count": 705,
      "outputs": []
    },
    {
      "cell_type": "markdown",
      "source": [
        "###<font color = \"orange\">fitting train data to the model:"
      ],
      "metadata": {
        "id": "qxcowsx1ohSk"
      }
    },
    {
      "cell_type": "code",
      "source": [
        "c = ADA_model.fit(x_train,y_train)"
      ],
      "metadata": {
        "id": "aFZ3PbVO7fnW"
      },
      "execution_count": 706,
      "outputs": []
    },
    {
      "cell_type": "markdown",
      "source": [
        "###<font color = \"orange\">calculating the score of the model:"
      ],
      "metadata": {
        "id": "4UpE2xWOoxil"
      }
    },
    {
      "cell_type": "code",
      "source": [
        "boosting_score = c.score(x_train,y_train)\n",
        "boosting_score"
      ],
      "metadata": {
        "colab": {
          "base_uri": "https://localhost:8080/"
        },
        "id": "rbKhISH77j5l",
        "outputId": "ad7e3d73-d995-4204-a034-d00ebb481dd5"
      },
      "execution_count": 707,
      "outputs": [
        {
          "output_type": "execute_result",
          "data": {
            "text/plain": [
              "0.5436181429125699"
            ]
          },
          "metadata": {},
          "execution_count": 707
        }
      ]
    },
    {
      "cell_type": "markdown",
      "source": [
        "###<font color = \"orange\"> predicting the train values:"
      ],
      "metadata": {
        "id": "i6IJ0wOmo3s4"
      }
    },
    {
      "cell_type": "code",
      "source": [
        "ADA_predicted_train_y = ADA_model.predict(x_train)"
      ],
      "metadata": {
        "id": "4YexbpPL7nff"
      },
      "execution_count": 708,
      "outputs": []
    },
    {
      "cell_type": "markdown",
      "source": [
        "###<font color = \"orange\">finding MSE and RMSE with predicted and actual train values:"
      ],
      "metadata": {
        "id": "xd580oYtpAZI"
      }
    },
    {
      "cell_type": "code",
      "source": [
        "ADA_MSE = mean_squared_error(y_train, ADA_predicted_train_y)\n",
        "print(f'MSE for adaboost model: {ADA_MSE}')\n",
        "ADA_RMSE = mean_squared_error(y_train, ADA_predicted_train_y,  squared = False)\n",
        "print(f'MSE for adaboost model: {ADA_RMSE}')"
      ],
      "metadata": {
        "colab": {
          "base_uri": "https://localhost:8080/"
        },
        "id": "eMsLll3P7tjt",
        "outputId": "a8f6fa2e-7512-40b4-ea1a-79906fc5184d"
      },
      "execution_count": 709,
      "outputs": [
        {
          "output_type": "stream",
          "name": "stdout",
          "text": [
            "MSE for adaboost model: 1012658.8937048869\n",
            "MSE for adaboost model: 1006.3095416942477\n"
          ]
        }
      ]
    },
    {
      "cell_type": "markdown",
      "source": [
        "###<font color = \"orange\"> predicting the test values:"
      ],
      "metadata": {
        "id": "yVn_Ef8GpKI-"
      }
    },
    {
      "cell_type": "code",
      "source": [
        "ADA_predicted_test_y = ADA_model.predict(x_test)"
      ],
      "metadata": {
        "id": "mjF8ob2z7zot"
      },
      "execution_count": 710,
      "outputs": []
    },
    {
      "cell_type": "markdown",
      "source": [
        "## <font color = \"orange\"> Decision Tree Regressor:"
      ],
      "metadata": {
        "id": "Nsgmv1Us0yVo"
      }
    },
    {
      "cell_type": "markdown",
      "source": [
        "###<font color = \"orange\">building the model:"
      ],
      "metadata": {
        "id": "ZDsLM3W_11wg"
      }
    },
    {
      "cell_type": "code",
      "source": [
        "from sklearn.tree import DecisionTreeRegressor"
      ],
      "metadata": {
        "id": "MrYhoDs70xq_"
      },
      "execution_count": 711,
      "outputs": []
    },
    {
      "cell_type": "code",
      "source": [
        "DT_model = DecisionTreeRegressor()"
      ],
      "metadata": {
        "id": "xM-L9Cnv0xlZ"
      },
      "execution_count": 712,
      "outputs": []
    },
    {
      "cell_type": "markdown",
      "source": [
        "###<font color = \"orange\">fitting train data to the model:"
      ],
      "metadata": {
        "id": "DxY97gEA15mn"
      }
    },
    {
      "cell_type": "code",
      "source": [
        "d = DT_model.fit(x_train,y_train)"
      ],
      "metadata": {
        "id": "f4dlAhQI0xjW"
      },
      "execution_count": 713,
      "outputs": []
    },
    {
      "cell_type": "markdown",
      "source": [
        "###<font color = \"orange\">calculating the score of the model:"
      ],
      "metadata": {
        "id": "g_R4AKD519mq"
      }
    },
    {
      "cell_type": "code",
      "source": [
        "DT_score = d.score(x_train,y_train)\n",
        "DT_score"
      ],
      "metadata": {
        "colab": {
          "base_uri": "https://localhost:8080/"
        },
        "id": "yWNgtjYV0xfB",
        "outputId": "bd2a483c-1d07-4355-a96c-a9a4379df581"
      },
      "execution_count": 714,
      "outputs": [
        {
          "output_type": "execute_result",
          "data": {
            "text/plain": [
              "0.9999991007305793"
            ]
          },
          "metadata": {},
          "execution_count": 714
        }
      ]
    },
    {
      "cell_type": "markdown",
      "source": [
        "###<font color = \"orange\"> predicting the train values:"
      ],
      "metadata": {
        "id": "0CsjZKzu2A_0"
      }
    },
    {
      "cell_type": "code",
      "source": [
        "DT_predicted_train_y = DT_model.predict(x_train)"
      ],
      "metadata": {
        "id": "k4e-G6NX0xcs"
      },
      "execution_count": 715,
      "outputs": []
    },
    {
      "cell_type": "markdown",
      "source": [
        "###<font color = \"orange\">finding MSE and RMSE with predicted and actual train values:"
      ],
      "metadata": {
        "id": "l4kUKXlr2EV_"
      }
    },
    {
      "cell_type": "code",
      "source": [
        "DT_MSE = mean_squared_error(y_train, DT_predicted_train_y)\n",
        "print(f'MSE for adaboost model: {DT_MSE}')\n",
        "DT_RMSE = mean_squared_error(y_train, DT_predicted_train_y,  squared = False)\n",
        "print(f'MSE for adaboost model: {DT_RMSE}')"
      ],
      "metadata": {
        "colab": {
          "base_uri": "https://localhost:8080/"
        },
        "id": "3pOYJbDK0xYQ",
        "outputId": "4a46cea0-06c1-44da-f558-6ec567549168"
      },
      "execution_count": 716,
      "outputs": [
        {
          "output_type": "stream",
          "name": "stdout",
          "text": [
            "MSE for adaboost model: 1.9953755008541596\n",
            "MSE for adaboost model: 1.412577608789747\n"
          ]
        }
      ]
    },
    {
      "cell_type": "markdown",
      "source": [
        "###<font color = \"orange\"> predicting the test values:"
      ],
      "metadata": {
        "id": "6WEyqpd92Jo0"
      }
    },
    {
      "cell_type": "code",
      "source": [
        "ADA_predicted_test_y = ADA_model.predict(x_test)"
      ],
      "metadata": {
        "id": "SzPk3Unp0xU4"
      },
      "execution_count": 717,
      "outputs": []
    },
    {
      "cell_type": "markdown",
      "source": [
        "## <font color = \"orange\"> stacking model:"
      ],
      "metadata": {
        "id": "jQemsnIl8AUk"
      }
    },
    {
      "cell_type": "markdown",
      "source": [
        "###<font color = \"orange\">building the model:"
      ],
      "metadata": {
        "id": "NNNmLMVsoc6_"
      }
    },
    {
      "cell_type": "code",
      "source": [
        "from sklearn.svm import SVR\n",
        "from sklearn.ensemble import StackingRegressor\n",
        "from sklearn.neighbors import KNeighborsRegressor\n",
        "from sklearn.tree import DecisionTreeRegressor"
      ],
      "metadata": {
        "id": "-5npCQaz8Cns"
      },
      "execution_count": 718,
      "outputs": []
    },
    {
      "cell_type": "code",
      "source": [
        "# get a stacking ensemble of models\n",
        "def get_stacking():\n",
        "# define the base models\n",
        "  level0 = list()\n",
        "  level0.append(('lr', LinearRegression()))\n",
        "  level0.append(('knn', KNeighborsRegressor()))\n",
        "  level0.append(('cart', DecisionTreeRegressor()))\n",
        "  level0.append(('svm', SVR()))\n",
        "# define meta learner model\n",
        "  level1 = LinearRegression()\n",
        "# define the stacking ensemble\n",
        "  model = StackingRegressor(estimators=level0, final_estimator=level1, cv=5)\n",
        "  return model"
      ],
      "metadata": {
        "id": "gptiJlij8H37"
      },
      "execution_count": 719,
      "outputs": []
    },
    {
      "cell_type": "code",
      "source": [
        "STACK_model = get_stacking()"
      ],
      "metadata": {
        "id": "t5xRzhxW8SCT"
      },
      "execution_count": 720,
      "outputs": []
    },
    {
      "cell_type": "markdown",
      "source": [
        "###<font color = \"orange\">fitting train data to the model:"
      ],
      "metadata": {
        "id": "mUq_TTZhookT"
      }
    },
    {
      "cell_type": "code",
      "source": [
        "e = STACK_model.fit(x_train,y_train)"
      ],
      "metadata": {
        "id": "_c4YL2cxomSD"
      },
      "execution_count": 721,
      "outputs": []
    },
    {
      "cell_type": "markdown",
      "source": [
        "###<font color = \"orange\">calculating the score of the model:"
      ],
      "metadata": {
        "id": "rqv40G5ioy21"
      }
    },
    {
      "cell_type": "code",
      "source": [
        "stacking_score = e.score(x_train, y_train)\n",
        "stacking_score"
      ],
      "metadata": {
        "colab": {
          "base_uri": "https://localhost:8080/"
        },
        "id": "XkFf8oc-8ubF",
        "outputId": "319fc9a3-d04b-4322-8946-b2211f01b798"
      },
      "execution_count": 722,
      "outputs": [
        {
          "output_type": "execute_result",
          "data": {
            "text/plain": [
              "0.6498158866315964"
            ]
          },
          "metadata": {},
          "execution_count": 722
        }
      ]
    },
    {
      "cell_type": "markdown",
      "source": [
        "###<font color = \"orange\"> predicting the train values:"
      ],
      "metadata": {
        "id": "-jUmsW5po5ZW"
      }
    },
    {
      "cell_type": "code",
      "source": [
        "stack_predicted_train_y = STACK_model.predict(x_train)"
      ],
      "metadata": {
        "id": "x4QGQ9Um8cw7"
      },
      "execution_count": 723,
      "outputs": []
    },
    {
      "cell_type": "markdown",
      "source": [
        "###<font color = \"orange\">finding MSE and RMSE with predicted and actual train values:"
      ],
      "metadata": {
        "id": "9gEGL470pCFK"
      }
    },
    {
      "cell_type": "code",
      "source": [
        "STACK_MSE = mean_squared_error(y_train, stack_predicted_train_y)\n",
        "print(f'MSE for stacking model: {STACK_MSE}')\n",
        "STACK_RMSE = mean_squared_error(y_train, stack_predicted_train_y,  squared = False)\n",
        "print(f'RMSE for stacking model: {STACK_RMSE}')"
      ],
      "metadata": {
        "colab": {
          "base_uri": "https://localhost:8080/"
        },
        "id": "3QnnKsLH8sja",
        "outputId": "717642cd-bbe1-4637-b5fb-30deafefe7a2"
      },
      "execution_count": 724,
      "outputs": [
        {
          "output_type": "stream",
          "name": "stdout",
          "text": [
            "MSE for stacking model: 777018.3045833469\n",
            "RMSE for stacking model: 881.4864176964651\n"
          ]
        }
      ]
    },
    {
      "cell_type": "markdown",
      "source": [
        "### <font color = \"orange\">predicting the test values:"
      ],
      "metadata": {
        "id": "ft6RJeuZpMPN"
      }
    },
    {
      "cell_type": "code",
      "source": [
        "stack_predicted_test_y = STACK_model.predict(x_test)\n",
        "stack_predicted_test_y"
      ],
      "metadata": {
        "id": "Tne7aqsk9ATp",
        "colab": {
          "base_uri": "https://localhost:8080/"
        },
        "outputId": "5f61d9ea-a78a-4655-d808-f6bdaa191f68"
      },
      "execution_count": 725,
      "outputs": [
        {
          "output_type": "execute_result",
          "data": {
            "text/plain": [
              "array([1284.54453784, 1021.91901179, 1305.91845732, ..., 1720.85110017,\n",
              "       2909.61079797, 1343.83282886])"
            ]
          },
          "metadata": {},
          "execution_count": 725
        }
      ]
    },
    {
      "cell_type": "markdown",
      "source": [
        "###<font color = \"orange\">comparing the scores of all the built models to find which gives better prediction for the dataset:"
      ],
      "metadata": {
        "id": "Kx5kVkLUpO77"
      }
    },
    {
      "cell_type": "code",
      "source": [
        "scores = []\n",
        "scores.append(round(LR_score,3))\n",
        "scores.append(round(bagging_score,3))\n",
        "scores.append(round(boosting_score,3))\n",
        "scores.append(round(DT_score,3))\n",
        "scores.append(round(stacking_score,3))\n",
        "\n",
        "\n",
        "names = []\n",
        "names.append(\"Linear Regression\")\n",
        "names.append(\"bagging\")\n",
        "names.append(\"Boosting\")\n",
        "names.append(\"Decision Tree\")\n",
        "names.append(\"Stacking\")"
      ],
      "metadata": {
        "id": "ywImqVef9EMB"
      },
      "execution_count": 726,
      "outputs": []
    },
    {
      "cell_type": "code",
      "source": [
        "def addlabels(names,scores):\n",
        "  for i in range(len(names)):\n",
        "    plt.text(i,scores[i],scores[i])\n",
        "\n",
        "if __name__ == '__main__':\n",
        "  sns.barplot(names, scores)\n",
        "  addlabels(names, scores)\n",
        "  plt.show()"
      ],
      "metadata": {
        "colab": {
          "base_uri": "https://localhost:8080/",
          "height": 265
        },
        "id": "CS4qXMC2Flzx",
        "outputId": "e9d0c616-d1a4-49cb-d9f9-848109fa79c5"
      },
      "execution_count": 727,
      "outputs": [
        {
          "output_type": "display_data",
          "data": {
            "text/plain": [
              "<Figure size 432x288 with 1 Axes>"
            ],
            "image/png": "[encoded data removed]"
          },
          "metadata": {
            "needs_background": "light"
          }
        }
      ]
    },
    {
      "cell_type": "markdown",
      "source": [
        "***from the bar graph, I conclude that Decision Tree model will give best prediction for the given dataset***"
      ],
      "metadata": {
        "id": "3HBEou8FpYjp"
      }
    },
    {
      "cell_type": "markdown",
      "source": [
        "###<font color = \"orange\">Plotting actual vs predicted values using Decision Tree model:"
      ],
      "metadata": {
        "id": "IdyY9ZMXpktd"
      }
    },
    {
      "cell_type": "code",
      "source": [
        "y_train_pred = DT_model.predict(x_train)\n",
        "\n",
        "df_pred_train = pd.DataFrame({\"Actual\":y_train,\"predicted\":y_train_pred})\n",
        "df_pred_train.sample(10, random_state = 1)"
      ],
      "metadata": {
        "colab": {
          "base_uri": "https://localhost:8080/",
          "height": 363
        },
        "id": "FlIv6lNIEmxH",
        "outputId": "51340f6a-941e-403b-e8cd-2cf411950f2b"
      },
      "execution_count": 728,
      "outputs": [
        {
          "output_type": "execute_result",
          "data": {
            "text/plain": [
              "         Actual  predicted\n",
              "1070   952.7598   952.7598\n",
              "6305  1133.8574  1133.8574\n",
              "8504  4138.6128  4138.6128\n",
              "5562  1657.1762  1657.1762\n",
              "1410   679.1160   679.1160\n",
              "695   2488.7604  2488.7604\n",
              "2909   905.4880   905.4880\n",
              "3470  3187.8504  3187.8504\n",
              "4900  3439.5228  3439.5228\n",
              "5879  4595.3516  4595.3516"
            ],
            "text/html": [
              "\n",
              "  <div id=\"df-9eb4f297-fe12-452c-84f9-8220768e6922\">\n",
              "    <div class=\"colab-df-container\">\n",
              "      <div>\n",
              "<style scoped>\n",
              "    .dataframe tbody tr th:only-of-type {\n",
              "        vertical-align: middle;\n",
              "    }\n",
              "\n",
              "    .dataframe tbody tr th {\n",
              "        vertical-align: top;\n",
              "    }\n",
              "\n",
              "    .dataframe thead th {\n",
              "        text-align: right;\n",
              "    }\n",
              "</style>\n",
              "<table border=\"1\" class=\"dataframe\">\n",
              "  <thead>\n",
              "    <tr style=\"text-align: right;\">\n",
              "      <th></th>\n",
              "      <th>Actual</th>\n",
              "      <th>predicted</th>\n",
              "    </tr>\n",
              "  </thead>\n",
              "  <tbody>\n",
              "    <tr>\n",
              "      <th>1070</th>\n",
              "      <td>952.7598</td>\n",
              "      <td>952.7598</td>\n",
              "    </tr>\n",
              "    <tr>\n",
              "      <th>6305</th>\n",
              "      <td>1133.8574</td>\n",
              "      <td>1133.8574</td>\n",
              "    </tr>\n",
              "    <tr>\n",
              "      <th>8504</th>\n",
              "      <td>4138.6128</td>\n",
              "      <td>4138.6128</td>\n",
              "    </tr>\n",
              "    <tr>\n",
              "      <th>5562</th>\n",
              "      <td>1657.1762</td>\n",
              "      <td>1657.1762</td>\n",
              "    </tr>\n",
              "    <tr>\n",
              "      <th>1410</th>\n",
              "      <td>679.1160</td>\n",
              "      <td>679.1160</td>\n",
              "    </tr>\n",
              "    <tr>\n",
              "      <th>695</th>\n",
              "      <td>2488.7604</td>\n",
              "      <td>2488.7604</td>\n",
              "    </tr>\n",
              "    <tr>\n",
              "      <th>2909</th>\n",
              "      <td>905.4880</td>\n",
              "      <td>905.4880</td>\n",
              "    </tr>\n",
              "    <tr>\n",
              "      <th>3470</th>\n",
              "      <td>3187.8504</td>\n",
              "      <td>3187.8504</td>\n",
              "    </tr>\n",
              "    <tr>\n",
              "      <th>4900</th>\n",
              "      <td>3439.5228</td>\n",
              "      <td>3439.5228</td>\n",
              "    </tr>\n",
              "    <tr>\n",
              "      <th>5879</th>\n",
              "      <td>4595.3516</td>\n",
              "      <td>4595.3516</td>\n",
              "    </tr>\n",
              "  </tbody>\n",
              "</table>\n",
              "</div>\n",
              "      <button class=\"colab-df-convert\" onclick=\"convertToInteractive('df-9eb4f297-fe12-452c-84f9-8220768e6922')\"\n",
              "              title=\"Convert this dataframe to an interactive table.\"\n",
              "              style=\"display:none;\">\n",
              "        \n",
              "  <svg xmlns=\"http://www.w3.org/2000/svg\" height=\"24px\"viewBox=\"0 0 24 24\"\n",
              "       width=\"24px\">\n",
              "    <path d=\"M0 0h24v24H0V0z\" fill=\"none\"/>\n",
              "    <path d=\"M18.56 5.44l.94 2.06.94-2.06 2.06-.94-2.06-.94-.94-2.06-.94 2.06-2.06.94zm-11 1L8.5 8.5l.94-2.06 2.06-.94-2.06-.94L8.5 2.5l-.94 2.06-2.06.94zm10 10l.94 2.06.94-2.06 2.06-.94-2.06-.94-.94-2.06-.94 2.06-2.06.94z\"/><path d=\"M17.41 7.96l-1.37-1.37c-.4-.4-.92-.59-1.43-.59-.52 0-1.04.2-1.43.59L10.3 9.45l-7.72 7.72c-.78.78-.78 2.05 0 2.83L4 21.41c.39.39.9.59 1.41.59.51 0 1.02-.2 1.41-.59l7.78-7.78 2.81-2.81c.8-.78.8-2.07 0-2.86zM5.41 20L4 18.59l7.72-7.72 1.47 1.35L5.41 20z\"/>\n",
              "  </svg>\n",
              "      </button>\n",
              "      \n",
              "  <style>\n",
              "    .colab-df-container {\n",
              "      display:flex;\n",
              "      flex-wrap:wrap;\n",
              "      gap: 12px;\n",
              "    }\n",
              "\n",
              "    .colab-df-convert {\n",
              "      background-color: #E8F0FE;\n",
              "      border: none;\n",
              "      border-radius: 50%;\n",
              "      cursor: pointer;\n",
              "      display: none;\n",
              "      fill: #1967D2;\n",
              "      height: 32px;\n",
              "      padding: 0 0 0 0;\n",
              "      width: 32px;\n",
              "    }\n",
              "\n",
              "    .colab-df-convert:hover {\n",
              "      background-color: #E2EBFA;\n",
              "      box-shadow: 0px 1px 2px rgba(60, 64, 67, 0.3), 0px 1px 3px 1px rgba(60, 64, 67, 0.15);\n",
              "      fill: #174EA6;\n",
              "    }\n",
              "\n",
              "    [theme=dark] .colab-df-convert {\n",
              "      background-color: #3B4455;\n",
              "      fill: #D2E3FC;\n",
              "    }\n",
              "\n",
              "    [theme=dark] .colab-df-convert:hover {\n",
              "      background-color: #434B5C;\n",
              "      box-shadow: 0px 1px 3px 1px rgba(0, 0, 0, 0.15);\n",
              "      filter: drop-shadow(0px 1px 2px rgba(0, 0, 0, 0.3));\n",
              "      fill: #FFFFFF;\n",
              "    }\n",
              "  </style>\n",
              "\n",
              "      <script>\n",
              "        const buttonEl =\n",
              "          document.querySelector('#df-9eb4f297-fe12-452c-84f9-8220768e6922 button.colab-df-convert');\n",
              "        buttonEl.style.display =\n",
              "          google.colab.kernel.accessAllowed ? 'block' : 'none';\n",
              "\n",
              "        async function convertToInteractive(key) {\n",
              "          const element = document.querySelector('#df-9eb4f297-fe12-452c-84f9-8220768e6922');\n",
              "          const dataTable =\n",
              "            await google.colab.kernel.invokeFunction('convertToInteractive',\n",
              "                                                     [key], {});\n",
              "          if (!dataTable) return;\n",
              "\n",
              "          const docLinkHtml = 'Like what you see? Visit the ' +\n",
              "            '<a target=\"_blank\" href=https://colab.research.google.com/notebooks/data_table.ipynb>data table notebook</a>'\n",
              "            + ' to learn more about interactive tables.';\n",
              "          element.innerHTML = '';\n",
              "          dataTable['output_type'] = 'display_data';\n",
              "          await google.colab.output.renderOutput(dataTable, element);\n",
              "          const docLink = document.createElement('div');\n",
              "          docLink.innerHTML = docLinkHtml;\n",
              "          element.appendChild(docLink);\n",
              "        }\n",
              "      </script>\n",
              "    </div>\n",
              "  </div>\n",
              "  "
            ]
          },
          "metadata": {},
          "execution_count": 728
        }
      ]
    },
    {
      "cell_type": "code",
      "source": [
        "df1 = df_pred_train.sample(30, random_state = 1)\n",
        "df1.plot(kind = \"bar\", figsize = (20,7))\n",
        "plt.show()"
      ],
      "metadata": {
        "colab": {
          "base_uri": "https://localhost:8080/",
          "height": 444
        },
        "id": "WyjL1z36FAvO",
        "outputId": "0c5c5c96-211e-40f1-d1db-ef3582b9fffc"
      },
      "execution_count": 729,
      "outputs": [
        {
          "output_type": "display_data",
          "data": {
            "text/plain": [
              "<Figure size 1440x504 with 1 Axes>"
            ],
            "image/png": "[encoded data removed]"
          },
          "metadata": {
            "needs_background": "light"
          }
        }
      ]
    },
    {
      "cell_type": "markdown",
      "source": [
        "***from the above bar graph, I conclude that the prediction is accurate with Decision Tree model. Because the predicted and actual values are nearly equal***"
      ],
      "metadata": {
        "id": "6DIZu5MHptAq"
      }
    }
  ]
}